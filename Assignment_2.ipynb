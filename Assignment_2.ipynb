{
  "nbformat": 4,
  "nbformat_minor": 0,
  "metadata": {
    "colab": {
      "name": "Assignment_2",
      "provenance": [],
      "authorship_tag": "ABX9TyOs0bM1dIcADGYe+fbh1F1+",
      "include_colab_link": true
    },
    "kernelspec": {
      "name": "python3",
      "display_name": "Python 3"
    }
  },
  "cells": [
    {
      "cell_type": "markdown",
      "metadata": {
        "id": "view-in-github",
        "colab_type": "text"
      },
      "source": [
        "<a href=\"https://colab.research.google.com/github/rishika-p/-NNDL-/blob/main/Assignment_2.ipynb\" target=\"_parent\"><img src=\"https://colab.research.google.com/assets/colab-badge.svg\" alt=\"Open In Colab\"/></a>"
      ]
    },
    {
      "cell_type": "code",
      "metadata": {
        "colab": {
          "base_uri": "https://localhost:8080/"
        },
        "id": "uUC5aloi-uoh",
        "outputId": "d5fd1d84-6639-45fb-f7ec-7b6e793baeb9"
      },
      "source": [
        "x_o = 6\n",
        "y_o = 4\n",
        "eta = 0.1 \n",
        "eps =0.0001\n",
        "iter = 0\n",
        "delta_x = 1\n",
        "delta_y = 1\n",
        "max_iters = 100\n",
        "def derivative(x,y):\n",
        "    x_derivative = 2*(x)\n",
        "    y_derivative = 2*(y)\n",
        "    return x_derivative,y_derivative\n",
        "while max(abs(delta_x),abs(delta_y))>eps and iter<max_iters:\n",
        "  previous_x = x_o \n",
        "  previous_y = y_o \n",
        "  delta_x = -eta*delta_x\n",
        "  delta_y = -eta*delta_y\n",
        "  x_o = x_o+delta_x \n",
        "  y_o = y_o+delta_x \n",
        "  iter= iter+1 \n",
        "  print(\"iteration\",iter,\"\\nX value is\",x_o,\"\\nY value is\",y_o) \n",
        "print(\"The local minimum occurs at \",x_o,y_o)"
      ],
      "execution_count": 6,
      "outputs": [
        {
          "output_type": "stream",
          "text": [
            "iteration 1 \n",
            "X value is 5.9 \n",
            "Y value is 3.9\n",
            "iteration 2 \n",
            "X value is 5.91 \n",
            "Y value is 3.9099999999999997\n",
            "iteration 3 \n",
            "X value is 5.909 \n",
            "Y value is 3.909\n",
            "iteration 4 \n",
            "X value is 5.9091 \n",
            "Y value is 3.9091\n",
            "iteration 5 \n",
            "X value is 5.90909 \n",
            "Y value is 3.90909\n",
            "The local minimum occurs at  5.90909 3.90909\n"
          ],
          "name": "stdout"
        }
      ]
    }
  ]
}