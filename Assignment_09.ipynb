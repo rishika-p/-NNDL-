{
  "nbformat": 4,
  "nbformat_minor": 0,
  "metadata": {
    "colab": {
      "name": "Assignment_09.ipynb",
      "provenance": [],
      "authorship_tag": "ABX9TyOXHyFzXOCU6OAep/ZJ6wNi",
      "include_colab_link": true
    },
    "kernelspec": {
      "name": "python3",
      "display_name": "Python 3"
    },
    "language_info": {
      "name": "python"
    }
  },
  "cells": [
    {
      "cell_type": "markdown",
      "metadata": {
        "id": "view-in-github",
        "colab_type": "text"
      },
      "source": [
        "<a href=\"https://colab.research.google.com/github/rishika-p/-NNDL-/blob/main/Assignment_09.ipynb\" target=\"_parent\"><img src=\"https://colab.research.google.com/assets/colab-badge.svg\" alt=\"Open In Colab\"/></a>"
      ]
    },
    {
      "cell_type": "code",
      "metadata": {
        "id": "0unyuB4hqlLA"
      },
      "source": [
        "import math\n",
        "import random\n",
        "import matplotlib.pyplot as plt\n",
        "from random import shuffle"
      ],
      "execution_count": 32,
      "outputs": []
    },
    {
      "cell_type": "code",
      "metadata": {
        "colab": {
          "base_uri": "https://localhost:8080/"
        },
        "id": "T2iAgRXrOsBL",
        "outputId": "11bce521-eb1c-43ce-f0a9-4d9b10f0a084"
      },
      "source": [
        "number_of_samples = 4\n",
        "learning_rate = 0.1\n",
        "epochs = 100\n",
        "batch_size = 2\n",
        "m = -1\n",
        "c = 1\n",
        "v_m = 0\n",
        "v_c = 0\n",
        "momentum_coeff = 0.9\n",
        "number_of_batches = number_of_samples//batch_size\n",
        "x = [0.2,0.4,0.6,0.8]\n",
        "y = [3.4,3.8,4.2,4.6]\n",
        "data = list()\n",
        "for i in range(4):\n",
        "  data.append((x[i],y[i]))\n",
        "print(data)"
      ],
      "execution_count": 33,
      "outputs": [
        {
          "output_type": "stream",
          "text": [
            "[(0.2, 3.4), (0.4, 3.8), (0.6, 4.2), (0.8, 4.6)]\n"
          ],
          "name": "stdout"
        }
      ]
    },
    {
      "cell_type": "code",
      "metadata": {
        "id": "g903ITF0TopI"
      },
      "source": [
        "def gradient_of_m(d,m,c):\n",
        "  sum = 0\n",
        "  for i in range(len(d)):\n",
        "    sum = sum + (d[i][1]-m*d[i][0]-c)*d[i][0]\n",
        "    return -1*sum/len(d)"
      ],
      "execution_count": 34,
      "outputs": []
    },
    {
      "cell_type": "code",
      "metadata": {
        "id": "FXwI0CwCTrkn"
      },
      "source": [
        "def gradient_of_c(d,m,c):\n",
        "  sum = 0\n",
        "  for i in range(len(d)):\n",
        "    sum = sum + (d[i][1]-m*d[i][0]-c)\n",
        "  return -1*sum/len(d)"
      ],
      "execution_count": 35,
      "outputs": []
    },
    {
      "cell_type": "code",
      "metadata": {
        "id": "qoIKq-inT_-m"
      },
      "source": [
        "def error(d,m,c):\n",
        "  sum = 0\n",
        "  for i in range(len(d)):\n",
        "    sum = sum + math.pow(d[i][1]-m*d[i][0]-c,2)\n",
        "  return 0.5*sum/len(d)"
      ],
      "execution_count": 36,
      "outputs": []
    },
    {
      "cell_type": "code",
      "metadata": {
        "colab": {
          "base_uri": "https://localhost:8080/"
        },
        "id": "JXCBabN_OVQI",
        "outputId": "35da212b-384e-4b91-9388-99c9b7d79db4"
      },
      "source": [
        "error_list = []\n",
        "for i in range(epochs):\n",
        "  for j in range(number_of_batches):\n",
        "    if j == number_of_batches:\n",
        "      d = data[j*batch_size:]\n",
        "    else:\n",
        "      d = data[j*batch_size:(j+1)*batch_size]\n",
        "    delta_m = -1*learning_rate*gradient_of_m(d,m,c)\n",
        "    delta_c = -1*learning_rate*gradient_of_c(d,m,c)\n",
        "\n",
        "    v_m = v_m*momentum_coeff + delta_m\n",
        "    v_c = v_c*momentum_coeff + delta_c\n",
        "\n",
        "    m = m + v_m\n",
        "    c = c + v_c\n",
        "    \n",
        "    error_list.append(error(d,m,c))\n",
        "  random.shuffle(data)\n",
        "  print(\"optimal value of m, c :\",m,c)"
      ],
      "execution_count": 38,
      "outputs": [
        {
          "output_type": "stream",
          "text": [
            "optimal value of m, c : -0.845768 1.93018\n",
            "optimal value of m, c : -0.4415530425919998 3.6305389425600003\n",
            "optimal value of m, c : -0.05431982517154735 5.227157236019121\n",
            "optimal value of m, c : 0.1677348993027224 6.133458235200095\n",
            "optimal value of m, c : 0.16574626498951261 5.984890504197539\n",
            "optimal value of m, c : 0.015219058640661629 5.133135928523659\n",
            "optimal value of m, c : -0.2084031219372542 4.007775368035831\n",
            "optimal value of m, c : -0.3582818102731834 3.1178698689919755\n",
            "optimal value of m, c : -0.3536999921007082 2.8492356234864107\n",
            "optimal value of m, c : -0.2623806494974745 3.1003501872927033\n",
            "optimal value of m, c : -0.055848762294324145 3.664386902570536\n",
            "optimal value of m, c : 0.24097698999010742 4.273453307861912\n",
            "optimal value of m, c : 0.45228390195674606 4.621608473194708\n",
            "optimal value of m, c : 0.5574353567988132 4.5648951474589055\n",
            "optimal value of m, c : 0.5784329319433604 4.234339809216954\n",
            "optimal value of m, c : 0.5472681662237076 3.7847870443356784\n",
            "optimal value of m, c : 0.5452430772146245 3.3745160150328353\n",
            "optimal value of m, c : 0.6011110962369518 3.1733133347239137\n",
            "optimal value of m, c : 0.7268465738838561 3.216868618864917\n",
            "optimal value of m, c : 0.8964162299128606 3.395561704926943\n",
            "optimal value of m, c : 1.035725991500935 3.6183134842547213\n",
            "optimal value of m, c : 1.139796445827638 3.7228108375236917\n",
            "optimal value of m, c : 1.2057253755784763 3.7303992699676316\n",
            "optimal value of m, c : 1.238712414480312 3.5922083801824956\n",
            "optimal value of m, c : 1.2521171574348309 3.402999934187641\n",
            "optimal value of m, c : 1.2667160580112438 3.2458629989485446\n",
            "optimal value of m, c : 1.2887752213457664 3.1573483577938015\n",
            "optimal value of m, c : 1.3394933173806884 3.1766072071830416\n",
            "optimal value of m, c : 1.3959566680515174 3.236649491197859\n",
            "optimal value of m, c : 1.449685967693359 3.3095293663295267\n",
            "optimal value of m, c : 1.491155345253179 3.365080468052314\n",
            "optimal value of m, c : 1.5137211226827658 3.35980516126582\n",
            "optimal value of m, c : 1.5274479616891408 3.312467902156407\n",
            "optimal value of m, c : 1.5432352754201941 3.2458025781104367\n",
            "optimal value of m, c : 1.5650401323081404 3.1851189673764964\n",
            "optimal value of m, c : 1.5897628216068727 3.140846773430371\n",
            "optimal value of m, c : 1.6335551267802013 3.1395554598460493\n",
            "optimal value of m, c : 1.675862500787642 3.1573591461804975\n",
            "optimal value of m, c : 1.707318598211271 3.167376374927195\n",
            "optimal value of m, c : 1.7299858129706718 3.1677615508671577\n",
            "optimal value of m, c : 1.746137666619695 3.1515207140432024\n",
            "optimal value of m, c : 1.7596855315802882 3.129845752135088\n",
            "optimal value of m, c : 1.7707662656707623 3.1112256485228595\n",
            "optimal value of m, c : 1.7779263088534627 3.1014004138504423\n",
            "optimal value of m, c : 1.7818975430999977 3.0950096915610885\n",
            "optimal value of m, c : 1.7864762034937298 3.094974797481741\n",
            "optimal value of m, c : 1.794895390506942 3.102667316796174\n",
            "optimal value of m, c : 1.8017050823569867 3.105067059043805\n",
            "optimal value of m, c : 1.80486743227942 3.1048533022198934\n",
            "optimal value of m, c : 1.80620675635739 3.0988860332221067\n",
            "optimal value of m, c : 1.8090436626850244 3.0937461387720337\n",
            "optimal value of m, c : 1.8131857324544793 3.0906444764096386\n",
            "optimal value of m, c : 1.817852713869064 3.092526831804165\n",
            "optimal value of m, c : 1.822209930332815 3.092073039643424\n",
            "optimal value of m, c : 1.8285794882581614 3.0907413052986796\n",
            "optimal value of m, c : 1.8365937316575118 3.086595622647392\n",
            "optimal value of m, c : 1.8457961283855893 3.0817839378617937\n",
            "optimal value of m, c : 1.854277055348335 3.0764982003829675\n",
            "optimal value of m, c : 1.8640882970089852 3.0759293189724826\n",
            "optimal value of m, c : 1.8709669534624993 3.0711367304890653\n",
            "optimal value of m, c : 1.8766354509634513 3.0657328515976556\n",
            "optimal value of m, c : 1.8816773871896635 3.0576082134876486\n",
            "optimal value of m, c : 1.8902502258690055 3.05251745566242\n",
            "optimal value of m, c : 1.8976885856402468 3.046419343501591\n",
            "optimal value of m, c : 1.9036619292163102 3.0459986576591094\n",
            "optimal value of m, c : 1.9083557095638455 3.0439903455288984\n",
            "optimal value of m, c : 1.9125579476894117 3.043234932850392\n",
            "optimal value of m, c : 1.9180079351013313 3.045821916573195\n",
            "optimal value of m, c : 1.9220602811963547 3.044607137571993\n",
            "optimal value of m, c : 1.9259417829096117 3.040894097233736\n",
            "optimal value of m, c : 1.9294316752574254 3.0377646195746935\n",
            "optimal value of m, c : 1.9320816718551386 3.03367330230412\n",
            "optimal value of m, c : 1.9357634573902265 3.0309875275928393\n",
            "optimal value of m, c : 1.9399423826704265 3.0291335459771576\n",
            "optimal value of m, c : 1.9437158693595897 3.02741069314532\n",
            "optimal value of m, c : 1.947034938692014 3.0262938669897474\n",
            "optimal value of m, c : 1.9499991782530521 3.024595242004663\n",
            "optimal value of m, c : 1.952630185150032 3.023893816807742\n",
            "optimal value of m, c : 1.9547920533004568 3.0236786898052466\n",
            "optimal value of m, c : 1.9574334449988353 3.0234570004962733\n",
            "optimal value of m, c : 1.9601832193500088 3.0217225656270563\n",
            "optimal value of m, c : 1.9627853232672736 3.020015270132161\n",
            "optimal value of m, c : 1.9646386702221201 3.0175038597261676\n",
            "optimal value of m, c : 1.966989856400092 3.016166753103229\n",
            "optimal value of m, c : 1.969152826956797 3.014665410059605\n",
            "optimal value of m, c : 1.9714173818889904 3.014820182713515\n",
            "optimal value of m, c : 1.973094932161705 3.0144575281624864\n",
            "optimal value of m, c : 1.9746623402875703 3.0131022500222233\n",
            "optimal value of m, c : 1.976665633778655 3.0125157310248287\n",
            "optimal value of m, c : 1.9786111063708332 3.011890802200484\n",
            "optimal value of m, c : 1.9801985898560954 3.010366551857583\n",
            "optimal value of m, c : 1.9817906341055291 3.0089831909411915\n",
            "optimal value of m, c : 1.9832555655398378 3.007776021278751\n",
            "optimal value of m, c : 1.9848876794649102 3.007464909358948\n",
            "optimal value of m, c : 1.986166259119445 3.0068506185685213\n",
            "optimal value of m, c : 1.987538235304373 3.006629516676322\n",
            "optimal value of m, c : 1.988692015577118 3.006094431441255\n",
            "optimal value of m, c : 1.989689226726757 3.005714598948765\n",
            "optimal value of m, c : 1.990462989163115 3.0050289507355243\n",
            "optimal value of m, c : 1.9910814720774368 3.0046363316955227\n"
          ],
          "name": "stdout"
        }
      ]
    },
    {
      "cell_type": "code",
      "metadata": {
        "colab": {
          "base_uri": "https://localhost:8080/",
          "height": 296
        },
        "id": "YtRXHe35UJxc",
        "outputId": "72a43f5c-e17d-4834-dddc-774e58d3e9fc"
      },
      "source": [
        "x_1 = range(100*(number_of_batches))\n",
        "y_1 = error_list\n",
        "plt.plot(x_1,y_1)\n",
        "plt.xlabel(\"number of updations\")\n",
        "plt.ylabel(\"error\")\n"
      ],
      "execution_count": 39,
      "outputs": [
        {
          "output_type": "execute_result",
          "data": {
            "text/plain": [
              "Text(0, 0.5, 'error')"
            ]
          },
          "metadata": {
            "tags": []
          },
          "execution_count": 39
        },
        {
          "output_type": "display_data",
          "data": {
            "image/png": "[encoded data removed]",
            "text/plain": [
              "<Figure size 432x288 with 1 Axes>"
            ]
          },
          "metadata": {
            "tags": [],
            "needs_background": "light"
          }
        }
      ]
    },
    {
      "cell_type": "code",
      "metadata": {
        "colab": {
          "base_uri": "https://localhost:8080/",
          "height": 282
        },
        "id": "sRMgJ2sxUQiE",
        "outputId": "a7c26207-90e8-4665-b927-987deb8ef99b"
      },
      "source": [
        "x_2 = range(0,3)\n",
        "y_2 = [m*i+c for i in x_2]\n",
        "plt.plot(x_2,y_2)\n",
        "plt.scatter(x,y)"
      ],
      "execution_count": 40,
      "outputs": [
        {
          "output_type": "execute_result",
          "data": {
            "text/plain": [
              "<matplotlib.collections.PathCollection at 0x7fb5f6e43d10>"
            ]
          },
          "metadata": {
            "tags": []
          },
          "execution_count": 40
        },
        {
          "output_type": "display_data",
          "data": {
            "image/png": "[encoded data removed]",
            "text/plain": [
              "<Figure size 432x288 with 1 Axes>"
            ]
          },
          "metadata": {
            "tags": [],
            "needs_background": "light"
          }
        }
      ]
    }
  ]
}