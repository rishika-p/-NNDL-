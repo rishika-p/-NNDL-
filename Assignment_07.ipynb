{
  "nbformat": 4,
  "nbformat_minor": 0,
  "metadata": {
    "colab": {
      "name": "Assignment_07.ipynb",
      "provenance": [],
      "authorship_tag": "ABX9TyOaNpmnIYSZjIBpLbVC88CO",
      "include_colab_link": true
    },
    "kernelspec": {
      "name": "python3",
      "display_name": "Python 3"
    },
    "language_info": {
      "name": "python"
    }
  },
  "cells": [
    {
      "cell_type": "markdown",
      "metadata": {
        "id": "view-in-github",
        "colab_type": "text"
      },
      "source": [
        "<a href=\"https://colab.research.google.com/github/rishika-p/-NNDL-/blob/main/Assignment_07.ipynb\" target=\"_parent\"><img src=\"https://colab.research.google.com/assets/colab-badge.svg\" alt=\"Open In Colab\"/></a>"
      ]
    },
    {
      "cell_type": "code",
      "metadata": {
        "id": "2h0sRye9j2Fz"
      },
      "source": [
        "import math\n",
        "import matplotlib.pyplot as plt"
      ],
      "execution_count": 1,
      "outputs": []
    },
    {
      "cell_type": "code",
      "metadata": {
        "colab": {
          "base_uri": "https://localhost:8080/"
        },
        "id": "Dss9oO_zkWiO",
        "outputId": "0af23b0b-0944-42fc-9111-3dcebb46a0ec"
      },
      "source": [
        "x = [0.2,0.4,0.6,0.8]\n",
        "y = [3.4,3.8,4.2,4.6]\n",
        "m = 1\n",
        "c = -1\n",
        "epochs = 100\n",
        "learning_rate = 0.1\n",
        "error_list = []\n",
        "def gradient_of_m(x,y,m,c):\n",
        "  sum = 0\n",
        "  number_of_samples = len(x)\n",
        "  for i in range(number_of_samples):\n",
        "    gradient_of_m_of_i = (y[i]- m*x[i] - c)*x[i]\n",
        "    sum = sum + gradient_of_m_of_i\n",
        "  gradient_m = -1*(1/number_of_samples)*sum\n",
        "  return gradient_m\n",
        "\n",
        "def gradient_of_c(x,y,m,c):\n",
        "  sum = 0\n",
        "  number_of_samples = len(x)\n",
        "  for i in range(number_of_samples):\n",
        "    gradient_of_c_of_i = (y[i]- m*x[i] - c)\n",
        "    sum = sum + gradient_of_c_of_i\n",
        "  gradient_c = -1*(1/number_of_samples)*sum\n",
        "  return gradient_c\n",
        "\n",
        "def error(x,y,m,c):\n",
        "  number_of_samples = len(x)\n",
        "  for i in range(number_of_samples):\n",
        "    error_value = 1*0.5*(1/number_of_samples)*math.pow((y[i] - m*x[i] - c), 2)\n",
        "  return error_value\n",
        "\n",
        "\n",
        "for i in range(epochs):\n",
        "  error_list.append(error(x,y,m,c))\n",
        "  delta_m = -1*learning_rate*gradient_of_m(x,y,m,c)\n",
        "  delta_c = -1*learning_rate*gradient_of_c(x,y,m,c)\n",
        "  m = m + delta_m\n",
        "  c = c + delta_c\n",
        "\n",
        "print(m,c)"
      ],
      "execution_count": 3,
      "outputs": [
        {
          "output_type": "stream",
          "text": [
            "2.572353565334219 2.7019945545615434\n"
          ],
          "name": "stdout"
        }
      ]
    }
  ]
}