{
  "nbformat": 4,
  "nbformat_minor": 0,
  "metadata": {
    "colab": {
      "name": "Assignment_13.ipynb",
      "provenance": [],
      "authorship_tag": "ABX9TyPhNCJ+FMKrNqXMVgXUpXPt",
      "include_colab_link": true
    },
    "kernelspec": {
      "name": "python3",
      "display_name": "Python 3"
    },
    "language_info": {
      "name": "python"
    }
  },
  "cells": [
    {
      "cell_type": "markdown",
      "metadata": {
        "id": "view-in-github",
        "colab_type": "text"
      },
      "source": [
        "<a href=\"https://colab.research.google.com/github/rishika-p/-NNDL-/blob/main/Assignment_13.ipynb\" target=\"_parent\"><img src=\"https://colab.research.google.com/assets/colab-badge.svg\" alt=\"Open In Colab\"/></a>"
      ]
    },
    {
      "cell_type": "code",
      "metadata": {
        "id": "58LB98W58DBy"
      },
      "source": [
        "import matplotlib.pyplot as plt\n",
        "from math import *"
      ],
      "execution_count": 1,
      "outputs": []
    },
    {
      "cell_type": "code",
      "metadata": {
        "id": "rjj2D792_xDV"
      },
      "source": [
        "x=[0.2,0.4,0.6,0.8]\n",
        "y=[3.4,3.8,4.2,4.6]\n",
        "n=0.01\n",
        "epochs=100000\n",
        "m=1\n",
        "c=-1"
      ],
      "execution_count": 2,
      "outputs": []
    },
    {
      "cell_type": "code",
      "metadata": {
        "id": "BBUtAgeRArxv"
      },
      "source": [
        "no_of_samples=4\n",
        "err_list=[]"
      ],
      "execution_count": 3,
      "outputs": []
    },
    {
      "cell_type": "code",
      "metadata": {
        "id": "F8cjPgKpAzER"
      },
      "source": [
        "def gradient_m(y,x,m,c):\n",
        "  return -1*(y-m*x-c)*x\n",
        "def gradient_c(y,x,m,c):\n",
        "  return -1*(y-m*x-c)"
      ],
      "execution_count": 4,
      "outputs": []
    },
    {
      "cell_type": "code",
      "metadata": {
        "id": "e8wjvkWyF3r3"
      },
      "source": [
        "Gm=0\n",
        "Gc=0\n",
        "e = pow(10,-8)"
      ],
      "execution_count": 5,
      "outputs": []
    },
    {
      "cell_type": "code",
      "metadata": {
        "colab": {
          "base_uri": "https://localhost:8080/"
        },
        "id": "9-LtCDLvBOiL",
        "outputId": "c67f3d33-51d3-4e18-d300-6a108a406097"
      },
      "source": [
        "for i in range(epochs):\n",
        "  for j in range(no_of_samples):\n",
        "    err=0.5*(y[j]-m*x[j]-c)**2\n",
        "    err_list.append(err)\n",
        "    gradient_of_m=gradient_m(y[j],x[j],m,c)\n",
        "    gradient_of_c=gradient_c(y[j],x[j],m,c)\n",
        "    Gm=Gm+gradient_of_m**2\n",
        "    Gc=Gc+gradient_of_c**2\n",
        "    l_rate_of_m=n/sqrt(Gm+e)\n",
        "    l_rate_of_c=n/sqrt(Gc+e)\n",
        "    delta_m = -1*l_rate_of_m*gradient_of_m\n",
        "    delta_c = -1*l_rate_of_c*gradient_of_c\n",
        "    m = m + delta_m\n",
        "    c = c + delta_c\n",
        "print(m,c)"
      ],
      "execution_count": 6,
      "outputs": [
        {
          "output_type": "stream",
          "text": [
            "2.9516831784758093 2.4914591045053904\n"
          ],
          "name": "stdout"
        }
      ]
    },
    {
      "cell_type": "code",
      "metadata": {
        "id": "DXS8ytVcGJIN",
        "colab": {
          "base_uri": "https://localhost:8080/",
          "height": 312
        },
        "outputId": "99b806c2-e2ec-4f3f-8390-e7cfc7f08ae5"
      },
      "source": [
        "x_1=range(epochs*4)\n",
        "y_1=err_list\n",
        "plt.plot(x_1,y_1)\n",
        "plt.xlabel(\"no of iter\")\n",
        "plt.ylabel(\"error\")\n",
        "plt.title(\"Error graph\")"
      ],
      "execution_count": 7,
      "outputs": [
        {
          "output_type": "execute_result",
          "data": {
            "text/plain": [
              "Text(0.5, 1.0, 'Error graph')"
            ]
          },
          "metadata": {
            "tags": []
          },
          "execution_count": 7
        },
        {
          "output_type": "display_data",
          "data": {
            "image/png": "[encoded data removed]",
            "text/plain": [
              "<Figure size 432x288 with 1 Axes>"
            ]
          },
          "metadata": {
            "tags": [],
            "needs_background": "light"
          }
        }
      ]
    },
    {
      "cell_type": "code",
      "metadata": {
        "id": "CLjbHc06Gm7T",
        "colab": {
          "base_uri": "https://localhost:8080/",
          "height": 298
        },
        "outputId": "7e9e8b54-1d73-4d5d-ba58-cdf1ec997917"
      },
      "source": [
        "x_2=range(0,2)\n",
        "y_2=[m*i+c for i in x_2]\n",
        "plt.plot(x_2,y_2)\n",
        "plt.scatter(x,y)\n",
        "plt.title(\"After Training\")"
      ],
      "execution_count": 8,
      "outputs": [
        {
          "output_type": "execute_result",
          "data": {
            "text/plain": [
              "Text(0.5, 1.0, 'After Training')"
            ]
          },
          "metadata": {
            "tags": []
          },
          "execution_count": 8
        },
        {
          "output_type": "display_data",
          "data": {
            "image/png": "[encoded data removed]",
            "text/plain": [
              "<Figure size 432x288 with 1 Axes>"
            ]
          },
          "metadata": {
            "tags": [],
            "needs_background": "light"
          }
        }
      ]
    }
  ]
}