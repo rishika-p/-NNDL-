{
  "nbformat": 4,
  "nbformat_minor": 0,
  "metadata": {
    "colab": {
      "name": "assignment-1 for 2 iter",
      "provenance": [],
      "authorship_tag": "ABX9TyOYLCwk7MLAOHAg8aNlJfyS",
      "include_colab_link": true
    },
    "kernelspec": {
      "name": "python3",
      "display_name": "Python 3"
    }
  },
  "cells": [
    {
      "cell_type": "markdown",
      "metadata": {
        "id": "view-in-github",
        "colab_type": "text"
      },
      "source": [
        "<a href=\"https://colab.research.google.com/github/rishika-p/-NNDL-/blob/main/assignment_1_for_2_iter.ipynb\" target=\"_parent\"><img src=\"https://colab.research.google.com/assets/colab-badge.svg\" alt=\"Open In Colab\"/></a>"
      ]
    },
    {
      "cell_type": "code",
      "metadata": {
        "colab": {
          "base_uri": "https://localhost:8080/"
        },
        "id": "9bxVlXeOOfSU",
        "outputId": "005a72f0-13b0-48f0-f1ae-8fc73fecb979"
      },
      "source": [
        "# FOR 2 ITERATIONS \r\n",
        "\r\n",
        "\r\n",
        "x=symbols('x')\r\n",
        "f=x**4+3*(x**2)+10\r\n",
        "p=diff(f,x) \r\n",
        "print(\"Differentiation for given equation is \",p)\r\n",
        "A=int(input(\"enter x value:\"))\r\n",
        "iter=1 \r\n",
        "n=0.001\r\n",
        "epoch=2\r\n",
        "while (iter<=epoch) :\r\n",
        "   Q=p.subs(x,A)\r\n",
        "   print(\"p\",Q)\r\n",
        "   delta_x=-n*Q\r\n",
        "   print(\"delta(x) =\",delta_x)\r\n",
        "   new_x = A + delta_x\r\n",
        "   print(\"x =\",new_x)\r\n",
        "   iter= iter + 1\r\n",
        "   A=new_x\r\n",
        "print(\"FINAL VALUE OF EQUATION  IS \",A)\r\n",
        "print(\"MINIMUM VALUE OF GIVEN EQUATION IS\",f.subs(x,A))"
      ],
      "execution_count": 31,
      "outputs": [
        {
          "output_type": "stream",
          "text": [
            "Differentiation for given equation is  4*x**3 + 6*x\n",
            "enter x value:3\n",
            "p 126\n",
            "delta(x) = -0.126000000000000\n",
            "x = 2.87400000000000\n",
            "p 112.199534496000\n",
            "delta(x) = -0.112199534496000\n",
            "x = 2.76180046550400\n",
            "FINAL VALUE OF EQUATION  IS  2.76180046550400\n",
            "MINIMUM VALUE OF GIVEN EQUATION IS 91.0620195162650\n"
          ],
          "name": "stdout"
        }
      ]
    }
  ]
}