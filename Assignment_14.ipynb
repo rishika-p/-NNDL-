{
  "nbformat": 4,
  "nbformat_minor": 0,
  "metadata": {
    "colab": {
      "name": "Assignment-14.ipynb",
      "provenance": [],
      "authorship_tag": "ABX9TyOiynGJBnGC5fJIF2qCq3ji",
      "include_colab_link": true
    },
    "kernelspec": {
      "name": "python3",
      "display_name": "Python 3"
    },
    "language_info": {
      "name": "python"
    }
  },
  "cells": [
    {
      "cell_type": "markdown",
      "metadata": {
        "id": "view-in-github",
        "colab_type": "text"
      },
      "source": [
        "<a href=\"https://colab.research.google.com/github/rishika-p/-NNDL-/blob/main/Assignment_14.ipynb\" target=\"_parent\"><img src=\"https://colab.research.google.com/assets/colab-badge.svg\" alt=\"Open In Colab\"/></a>"
      ]
    },
    {
      "cell_type": "code",
      "metadata": {
        "id": "ABT4k9w3_0eG"
      },
      "source": [
        "import numpy as np\n",
        "import matplotlib.pyplot as plt\n",
        "import pandas as pd\n",
        "from sklearn.model_selection import train_test_split\n",
        "from sklearn.preprocessing import minmax_scale\n",
        "from sklearn.model_selection import train_test_split\n",
        "import seaborn as sns\n",
        "from sklearn.metrics import mean_squared_error\n",
        "import math"
      ],
      "execution_count": 1,
      "outputs": []
    },
    {
      "cell_type": "code",
      "metadata": {
        "colab": {
          "base_uri": "https://localhost:8080/",
          "height": 203
        },
        "id": "FF7758jpAHci",
        "outputId": "21c1a23b-9c95-460e-c67e-4166da3f1ae4"
      },
      "source": [
        "load_data = pd.read_excel(\"/content/Load Data in kW.xlsx\")\n",
        "load_data.head()"
      ],
      "execution_count": 2,
      "outputs": [
        {
          "output_type": "execute_result",
          "data": {
            "text/html": [
              "<div>\n",
              "<style scoped>\n",
              "    .dataframe tbody tr th:only-of-type {\n",
              "        vertical-align: middle;\n",
              "    }\n",
              "\n",
              "    .dataframe tbody tr th {\n",
              "        vertical-align: top;\n",
              "    }\n",
              "\n",
              "    .dataframe thead th {\n",
              "        text-align: right;\n",
              "    }\n",
              "</style>\n",
              "<table border=\"1\" class=\"dataframe\">\n",
              "  <thead>\n",
              "    <tr style=\"text-align: right;\">\n",
              "      <th></th>\n",
              "      <th>5551.82208</th>\n",
              "    </tr>\n",
              "  </thead>\n",
              "  <tbody>\n",
              "    <tr>\n",
              "      <th>0</th>\n",
              "      <td>4983.17184</td>\n",
              "    </tr>\n",
              "    <tr>\n",
              "      <th>1</th>\n",
              "      <td>4888.39680</td>\n",
              "    </tr>\n",
              "    <tr>\n",
              "      <th>2</th>\n",
              "      <td>5072.95872</td>\n",
              "    </tr>\n",
              "    <tr>\n",
              "      <th>3</th>\n",
              "      <td>5196.25980</td>\n",
              "    </tr>\n",
              "    <tr>\n",
              "      <th>4</th>\n",
              "      <td>5641.29720</td>\n",
              "    </tr>\n",
              "  </tbody>\n",
              "</table>\n",
              "</div>"
            ],
            "text/plain": [
              "   5551.82208\n",
              "0  4983.17184\n",
              "1  4888.39680\n",
              "2  5072.95872\n",
              "3  5196.25980\n",
              "4  5641.29720"
            ]
          },
          "metadata": {
            "tags": []
          },
          "execution_count": 2
        }
      ]
    },
    {
      "cell_type": "code",
      "metadata": {
        "colab": {
          "base_uri": "https://localhost:8080/",
          "height": 296
        },
        "id": "zqAiWWKIAqZd",
        "outputId": "6df4a656-d73c-4cee-a774-d6ea678e1a48"
      },
      "source": [
        "data.describe()"
      ],
      "execution_count": 4,
      "outputs": [
        {
          "output_type": "execute_result",
          "data": {
            "text/html": [
              "<div>\n",
              "<style scoped>\n",
              "    .dataframe tbody tr th:only-of-type {\n",
              "        vertical-align: middle;\n",
              "    }\n",
              "\n",
              "    .dataframe tbody tr th {\n",
              "        vertical-align: top;\n",
              "    }\n",
              "\n",
              "    .dataframe thead th {\n",
              "        text-align: right;\n",
              "    }\n",
              "</style>\n",
              "<table border=\"1\" class=\"dataframe\">\n",
              "  <thead>\n",
              "    <tr style=\"text-align: right;\">\n",
              "      <th></th>\n",
              "      <th>load</th>\n",
              "    </tr>\n",
              "  </thead>\n",
              "  <tbody>\n",
              "    <tr>\n",
              "      <th>count</th>\n",
              "      <td>2183.000000</td>\n",
              "    </tr>\n",
              "    <tr>\n",
              "      <th>mean</th>\n",
              "      <td>6393.616060</td>\n",
              "    </tr>\n",
              "    <tr>\n",
              "      <th>std</th>\n",
              "      <td>17143.020064</td>\n",
              "    </tr>\n",
              "    <tr>\n",
              "      <th>min</th>\n",
              "      <td>3377.919600</td>\n",
              "    </tr>\n",
              "    <tr>\n",
              "      <th>25%</th>\n",
              "      <td>5257.520640</td>\n",
              "    </tr>\n",
              "    <tr>\n",
              "      <th>50%</th>\n",
              "      <td>5935.910400</td>\n",
              "    </tr>\n",
              "    <tr>\n",
              "      <th>75%</th>\n",
              "      <td>6738.692400</td>\n",
              "    </tr>\n",
              "    <tr>\n",
              "      <th>max</th>\n",
              "      <td>805444.430400</td>\n",
              "    </tr>\n",
              "  </tbody>\n",
              "</table>\n",
              "</div>"
            ],
            "text/plain": [
              "                load\n",
              "count    2183.000000\n",
              "mean     6393.616060\n",
              "std     17143.020064\n",
              "min      3377.919600\n",
              "25%      5257.520640\n",
              "50%      5935.910400\n",
              "75%      6738.692400\n",
              "max    805444.430400"
            ]
          },
          "metadata": {
            "tags": []
          },
          "execution_count": 4
        }
      ]
    },
    {
      "cell_type": "code",
      "metadata": {
        "colab": {
          "base_uri": "https://localhost:8080/",
          "height": 296
        },
        "id": "JMptGFb_BGuu",
        "outputId": "6afeb3b5-1b3a-4583-822e-3a27fcbbd1b0"
      },
      "source": [
        "#outliers\n",
        "sns.boxplot(x=data['load'])"
      ],
      "execution_count": 5,
      "outputs": [
        {
          "output_type": "execute_result",
          "data": {
            "text/plain": [
              "<matplotlib.axes._subplots.AxesSubplot at 0x7fb13249bfd0>"
            ]
          },
          "metadata": {
            "tags": []
          },
          "execution_count": 5
        },
        {
          "output_type": "display_data",
          "data": {
            "image/png": "[encoded data removed]",
            "text/plain": [
              "<Figure size 432x288 with 1 Axes>"
            ]
          },
          "metadata": {
            "tags": [],
            "needs_background": "light"
          }
        }
      ]
    },
    {
      "cell_type": "code",
      "metadata": {
        "colab": {
          "base_uri": "https://localhost:8080/"
        },
        "id": "UDUTz9MCBoT_",
        "outputId": "fbae4870-c49d-4d33-c02e-fef1d1b6e850"
      },
      "source": [
        "from scipy import stats\n",
        "z = np.abs(stats.zscore(load_data.iloc[:,0]))\n",
        "threshold = 3\n",
        "print(np.where(z > 3))"
      ],
      "execution_count": 6,
      "outputs": [
        {
          "output_type": "stream",
          "text": [
            "(array([928]),)\n"
          ],
          "name": "stdout"
        }
      ]
    },
    {
      "cell_type": "code",
      "metadata": {
        "colab": {
          "base_uri": "https://localhost:8080/",
          "height": 296
        },
        "id": "NaBKyc5ZBt5b",
        "outputId": "b9614191-3e69-409f-9522-7a6c59641057"
      },
      "source": [
        "#replacing outliers\n",
        "data.iloc[928,0] = data.iloc[927,0]\n",
        "sns.boxplot(x=data['load'])"
      ],
      "execution_count": 7,
      "outputs": [
        {
          "output_type": "execute_result",
          "data": {
            "text/plain": [
              "<matplotlib.axes._subplots.AxesSubplot at 0x7fb13233bc50>"
            ]
          },
          "metadata": {
            "tags": []
          },
          "execution_count": 7
        },
        {
          "output_type": "display_data",
          "data": {
            "image/png": "[encoded data removed]",
            "text/plain": [
              "<Figure size 432x288 with 1 Axes>"
            ]
          },
          "metadata": {
            "tags": [],
            "needs_background": "light"
          }
        }
      ]
    },
    {
      "cell_type": "code",
      "metadata": {
        "id": "ZYaG6Z5OB3Mj"
      },
      "source": [
        "data_x = []\n",
        "data_y = []\n",
        "for i in range(0,len(data)-(24*7)):\n",
        "  data_x.append(data.iloc[i,0])\n",
        "  data_y.append(data.iloc[i+(24*7),0])"
      ],
      "execution_count": 8,
      "outputs": []
    },
    {
      "cell_type": "code",
      "metadata": {
        "colab": {
          "base_uri": "https://localhost:8080/",
          "height": 312
        },
        "id": "20vhxkHNCFG6",
        "outputId": "6900a209-2fc3-4a67-b4cb-b47753535b64"
      },
      "source": [
        "plt.scatter(data_x,data_y)\n",
        "plt.title(\"load data\")\n",
        "plt.xlabel(\"previous hours load\")\n",
        "plt.ylabel(\"present hours load\")"
      ],
      "execution_count": 11,
      "outputs": [
        {
          "output_type": "execute_result",
          "data": {
            "text/plain": [
              "Text(0, 0.5, 'present hours load')"
            ]
          },
          "metadata": {
            "tags": []
          },
          "execution_count": 11
        },
        {
          "output_type": "display_data",
          "data": {
            "image/png": "[encoded data removed]",
            "text/plain": [
              "<Figure size 432x288 with 1 Axes>"
            ]
          },
          "metadata": {
            "tags": [],
            "needs_background": "light"
          }
        }
      ]
    },
    {
      "cell_type": "code",
      "metadata": {
        "colab": {
          "base_uri": "https://localhost:8080/"
        },
        "id": "fd3HHp6wCQZe",
        "outputId": "28d1d398-5397-40e8-d596-d7d45d31b8d6"
      },
      "source": [
        "data_xx = pd.DataFrame(data_x)\n",
        "min_x = float(data_xx.min())\n",
        "max_x = float(data_xx.max())\n",
        "data_yy = pd.DataFrame(data_y)\n",
        "min_y = float(data_yy.min())\n",
        "max_y = float(data_yy.max())\n",
        "print(min_x)\n",
        "print(min_y)\n",
        "print(max_x)\n",
        "print(max_y)"
      ],
      "execution_count": 12,
      "outputs": [
        {
          "output_type": "stream",
          "text": [
            "3381.1930800000005\n",
            "3377.9196\n",
            "8841.66948\n",
            "8841.66948\n"
          ],
          "name": "stdout"
        }
      ]
    },
    {
      "cell_type": "code",
      "metadata": {
        "colab": {
          "base_uri": "https://localhost:8080/",
          "height": 417
        },
        "id": "fvnUvkoBCTH4",
        "outputId": "7c7068a4-b9b6-481b-ccf6-0f0ab2dffc96"
      },
      "source": [
        "#Data Normalization\n",
        "x = minmax_scale(data_x)\n",
        "y = minmax_scale(data_y)\n",
        "data_norm = []\n",
        "for i in range(len(data)-24*7):\n",
        "  data_norm.append([x[i],y[i]])\n",
        "data_norm = pd.DataFrame(data_norm)\n",
        "data_norm"
      ],
      "execution_count": 13,
      "outputs": [
        {
          "output_type": "execute_result",
          "data": {
            "text/html": [
              "<div>\n",
              "<style scoped>\n",
              "    .dataframe tbody tr th:only-of-type {\n",
              "        vertical-align: middle;\n",
              "    }\n",
              "\n",
              "    .dataframe tbody tr th {\n",
              "        vertical-align: top;\n",
              "    }\n",
              "\n",
              "    .dataframe thead th {\n",
              "        text-align: right;\n",
              "    }\n",
              "</style>\n",
              "<table border=\"1\" class=\"dataframe\">\n",
              "  <thead>\n",
              "    <tr style=\"text-align: right;\">\n",
              "      <th></th>\n",
              "      <th>0</th>\n",
              "      <th>1</th>\n",
              "    </tr>\n",
              "  </thead>\n",
              "  <tbody>\n",
              "    <tr>\n",
              "      <th>0</th>\n",
              "      <td>0.293377</td>\n",
              "      <td>0.322302</td>\n",
              "    </tr>\n",
              "    <tr>\n",
              "      <th>1</th>\n",
              "      <td>0.276021</td>\n",
              "      <td>0.286040</td>\n",
              "    </tr>\n",
              "    <tr>\n",
              "      <th>2</th>\n",
              "      <td>0.309820</td>\n",
              "      <td>0.254087</td>\n",
              "    </tr>\n",
              "    <tr>\n",
              "      <th>3</th>\n",
              "      <td>0.332401</td>\n",
              "      <td>0.300562</td>\n",
              "    </tr>\n",
              "    <tr>\n",
              "      <th>4</th>\n",
              "      <td>0.413902</td>\n",
              "      <td>0.404639</td>\n",
              "    </tr>\n",
              "    <tr>\n",
              "      <th>...</th>\n",
              "      <td>...</td>\n",
              "      <td>...</td>\n",
              "    </tr>\n",
              "    <tr>\n",
              "      <th>2010</th>\n",
              "      <td>0.499943</td>\n",
              "      <td>0.228524</td>\n",
              "    </tr>\n",
              "    <tr>\n",
              "      <th>2011</th>\n",
              "      <td>0.536940</td>\n",
              "      <td>0.217797</td>\n",
              "    </tr>\n",
              "    <tr>\n",
              "      <th>2012</th>\n",
              "      <td>0.622923</td>\n",
              "      <td>0.246298</td>\n",
              "    </tr>\n",
              "    <tr>\n",
              "      <th>2013</th>\n",
              "      <td>0.489837</td>\n",
              "      <td>0.324384</td>\n",
              "    </tr>\n",
              "    <tr>\n",
              "      <th>2014</th>\n",
              "      <td>0.096917</td>\n",
              "      <td>0.651650</td>\n",
              "    </tr>\n",
              "  </tbody>\n",
              "</table>\n",
              "<p>2015 rows × 2 columns</p>\n",
              "</div>"
            ],
            "text/plain": [
              "             0         1\n",
              "0     0.293377  0.322302\n",
              "1     0.276021  0.286040\n",
              "2     0.309820  0.254087\n",
              "3     0.332401  0.300562\n",
              "4     0.413902  0.404639\n",
              "...        ...       ...\n",
              "2010  0.499943  0.228524\n",
              "2011  0.536940  0.217797\n",
              "2012  0.622923  0.246298\n",
              "2013  0.489837  0.324384\n",
              "2014  0.096917  0.651650\n",
              "\n",
              "[2015 rows x 2 columns]"
            ]
          },
          "metadata": {
            "tags": []
          },
          "execution_count": 13
        }
      ]
    },
    {
      "cell_type": "code",
      "metadata": {
        "colab": {
          "base_uri": "https://localhost:8080/",
          "height": 203
        },
        "id": "a7rjqH98Ch63",
        "outputId": "7d6549b8-19ed-42a1-b9fd-8bb8947d91a3"
      },
      "source": [
        "#Splitting Data\n",
        "data_train,data_test = train_test_split(data_norm,test_size=0.1)\n",
        "data_norm.head()"
      ],
      "execution_count": 14,
      "outputs": [
        {
          "output_type": "execute_result",
          "data": {
            "text/html": [
              "<div>\n",
              "<style scoped>\n",
              "    .dataframe tbody tr th:only-of-type {\n",
              "        vertical-align: middle;\n",
              "    }\n",
              "\n",
              "    .dataframe tbody tr th {\n",
              "        vertical-align: top;\n",
              "    }\n",
              "\n",
              "    .dataframe thead th {\n",
              "        text-align: right;\n",
              "    }\n",
              "</style>\n",
              "<table border=\"1\" class=\"dataframe\">\n",
              "  <thead>\n",
              "    <tr style=\"text-align: right;\">\n",
              "      <th></th>\n",
              "      <th>0</th>\n",
              "      <th>1</th>\n",
              "    </tr>\n",
              "  </thead>\n",
              "  <tbody>\n",
              "    <tr>\n",
              "      <th>0</th>\n",
              "      <td>0.293377</td>\n",
              "      <td>0.322302</td>\n",
              "    </tr>\n",
              "    <tr>\n",
              "      <th>1</th>\n",
              "      <td>0.276021</td>\n",
              "      <td>0.286040</td>\n",
              "    </tr>\n",
              "    <tr>\n",
              "      <th>2</th>\n",
              "      <td>0.309820</td>\n",
              "      <td>0.254087</td>\n",
              "    </tr>\n",
              "    <tr>\n",
              "      <th>3</th>\n",
              "      <td>0.332401</td>\n",
              "      <td>0.300562</td>\n",
              "    </tr>\n",
              "    <tr>\n",
              "      <th>4</th>\n",
              "      <td>0.413902</td>\n",
              "      <td>0.404639</td>\n",
              "    </tr>\n",
              "  </tbody>\n",
              "</table>\n",
              "</div>"
            ],
            "text/plain": [
              "          0         1\n",
              "0  0.293377  0.322302\n",
              "1  0.276021  0.286040\n",
              "2  0.309820  0.254087\n",
              "3  0.332401  0.300562\n",
              "4  0.413902  0.404639"
            ]
          },
          "metadata": {
            "tags": []
          },
          "execution_count": 14
        }
      ]
    },
    {
      "cell_type": "code",
      "metadata": {
        "colab": {
          "base_uri": "https://localhost:8080/"
        },
        "id": "Jtz_4SozC3jr",
        "outputId": "3d308c42-c663-41f6-a04e-c662813d297d"
      },
      "source": [
        "data_x = np.array(data_train[0])\n",
        "data_y = np.array(data_train[1])\n",
        "len(data_x)"
      ],
      "execution_count": 15,
      "outputs": [
        {
          "output_type": "execute_result",
          "data": {
            "text/plain": [
              "1813"
            ]
          },
          "metadata": {
            "tags": []
          },
          "execution_count": 15
        }
      ]
    },
    {
      "cell_type": "code",
      "metadata": {
        "id": "SAutdaCODHk_"
      },
      "source": [
        "# Training model\n",
        "max_iters=2000\n",
        "m=1.0\n",
        "c=-1.0\n",
        "Gm=0.0\n",
        "Gc=0.0\n",
        "alpha=0.1\n",
        "exp=10**(-8)\n",
        "dm=0.0\n",
        "dc=0.0\n",
        "iter=1\n",
        "error=[]\n",
        "while (iter<=max_iters):\n",
        "  err=0.0\n",
        "  for i in range(len(data_x)):\n",
        "    gm=-1*(data_y[i]-(m*data_x[i])-c)*data_x[i]\n",
        "    gc=-1*(data_y[i]-(m*data_x[i])-c)\n",
        "    err+=(data_y[i]-m*data_x[i]-c)**2\n",
        "    Gm = Gm + (gm**2)\n",
        "    Gc = Gc + (gc**2) \n",
        "    r1 = math.sqrt(Gm + exp)\n",
        "    r2 = math.sqrt(Gc + exp)\n",
        "    dm = -1*(alpha/r1)*gm\n",
        "    dc = -1*(alpha/r2)*gc\n",
        "    m = m + dm\n",
        "    c = c + dc\n",
        "  error.append(err/(2*len(data_x)))\n",
        "  iter=iter+1"
      ],
      "execution_count": 16,
      "outputs": []
    },
    {
      "cell_type": "code",
      "metadata": {
        "colab": {
          "base_uri": "https://localhost:8080/"
        },
        "id": "Iq0qTeZmEWe5",
        "outputId": "56d09211-6a87-414b-8f8a-e7f3a064279a"
      },
      "source": [
        "print(m,c)"
      ],
      "execution_count": 17,
      "outputs": [
        {
          "output_type": "stream",
          "text": [
            "0.52058562034344 0.22310319842063436\n"
          ],
          "name": "stdout"
        }
      ]
    },
    {
      "cell_type": "code",
      "metadata": {
        "id": "2Kfi9Eh8DbS-"
      },
      "source": [
        "iters = np.arange(max_iters)\n",
        "pred = []\n",
        "for i in range(len(data_train)):\n",
        "  pred.append(m*data_x[i] + c)"
      ],
      "execution_count": 18,
      "outputs": []
    },
    {
      "cell_type": "code",
      "metadata": {
        "id": "dRE9trYmDdSS"
      },
      "source": [
        "mse_train = mean_squared_error(data_y,pred)"
      ],
      "execution_count": 19,
      "outputs": []
    },
    {
      "cell_type": "code",
      "metadata": {
        "colab": {
          "base_uri": "https://localhost:8080/"
        },
        "id": "hb2wUrohD-zL",
        "outputId": "b59ba58c-bb79-4221-85de-0881c10381ae"
      },
      "source": [
        "#mse\n",
        "pred_test = m*data_test[0] + c\n",
        "mse_test = mean_squared_error(data_test[1],pred_test)\n",
        "print(\"training data mean squared error:\",mse_train)\n",
        "print(\"Testing data mean squared error:\",mse_test)"
      ],
      "execution_count": 20,
      "outputs": [
        {
          "output_type": "stream",
          "text": [
            "training data mean squared error: 0.02957375779121843\n",
            "Testing data mean squared error: 0.03408192150286519\n"
          ],
          "name": "stdout"
        }
      ]
    },
    {
      "cell_type": "code",
      "metadata": {
        "colab": {
          "base_uri": "https://localhost:8080/",
          "height": 295
        },
        "id": "Rvz52P8NEfMa",
        "outputId": "7aa45ab5-7013-4f8f-ff55-9e0b600393c1"
      },
      "source": [
        "#Training data\n",
        "plt.scatter(data_train[0],data_train[1])\n",
        "plt.plot(data_train[0],pred,color='black')\n",
        "plt.title(\"regression line of training data\")\n",
        "plt.xlabel(\"previous hour load\")\n",
        "plt.ylabel(\"present hour load\")\n",
        "plt.show()"
      ],
      "execution_count": 22,
      "outputs": [
        {
          "output_type": "display_data",
          "data": {
            "image/png": "[encoded data removed]",
            "text/plain": [
              "<Figure size 432x288 with 1 Axes>"
            ]
          },
          "metadata": {
            "tags": [],
            "needs_background": "light"
          }
        }
      ]
    },
    {
      "cell_type": "code",
      "metadata": {
        "colab": {
          "base_uri": "https://localhost:8080/",
          "height": 295
        },
        "id": "yJJklU1CEufr",
        "outputId": "bc85ae27-bdac-4689-cc6e-61dcdca903da"
      },
      "source": [
        "#Testing data\n",
        "plt.scatter(data_test[0],data_test[1])\n",
        "plt.plot(data_test[0],pred_test,color='black')\n",
        "plt.title(\"regression line of testing data\")\n",
        "plt.xlabel(\"previous hour load\")\n",
        "plt.ylabel(\"present hour load\")\n",
        "plt.show()"
      ],
      "execution_count": 23,
      "outputs": [
        {
          "output_type": "display_data",
          "data": {
            "image/png": "[encoded data removed]",
            "text/plain": [
              "<Figure size 432x288 with 1 Axes>"
            ]
          },
          "metadata": {
            "tags": [],
            "needs_background": "light"
          }
        }
      ]
    },
    {
      "cell_type": "code",
      "metadata": {
        "colab": {
          "base_uri": "https://localhost:8080/"
        },
        "id": "njumAoLcE5Na",
        "outputId": "ff4ccffd-6755-4891-b56d-ea666b73e419"
      },
      "source": [
        "load = float(input(\"enter load at this time : \"))\n",
        "load = (load - min_x)/(max_x-min_x)\n",
        "o_load = load*m+c\n",
        "output_load = o_load*(max_y-min_y)+min_y\n",
        "print(\"predicted load :\",o_load)"
      ],
      "execution_count": 25,
      "outputs": [
        {
          "output_type": "stream",
          "text": [
            "enter load at this time : 4444.4\n",
            "predicted load : 0.32446619195021686\n"
          ],
          "name": "stdout"
        }
      ]
    }
  ]
}