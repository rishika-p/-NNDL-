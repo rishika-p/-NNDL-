{
  "nbformat": 4,
  "nbformat_minor": 0,
  "metadata": {
    "colab": {
      "name": "Assignment_12.ipynb",
      "provenance": [],
      "authorship_tag": "ABX9TyOU/uPeppj+sWRUfWa3EGzD",
      "include_colab_link": true
    },
    "kernelspec": {
      "name": "python3",
      "display_name": "Python 3"
    },
    "language_info": {
      "name": "python"
    }
  },
  "cells": [
    {
      "cell_type": "markdown",
      "metadata": {
        "id": "view-in-github",
        "colab_type": "text"
      },
      "source": [
        "<a href=\"https://colab.research.google.com/github/rishika-p/-NNDL-/blob/main/Assignment_12.ipynb\" target=\"_parent\"><img src=\"https://colab.research.google.com/assets/colab-badge.svg\" alt=\"Open In Colab\"/></a>"
      ]
    },
    {
      "cell_type": "code",
      "metadata": {
        "id": "91SEKh2o2sUC"
      },
      "source": [
        "import math\n",
        "import pandas as pd\n",
        "import numpy as np\n",
        "import random\n",
        "import seaborn as sns\n",
        "import matplotlib.pyplot as plt\n",
        "from sklearn.preprocessing import minmax_scale\n",
        "from sklearn.model_selection import train_test_split\n",
        "from random import shuffle\n",
        "from scipy import stats"
      ],
      "execution_count": 1,
      "outputs": []
    },
    {
      "cell_type": "code",
      "metadata": {
        "colab": {
          "base_uri": "https://localhost:8080/",
          "height": 296
        },
        "id": "ZBAxlseO3UNL",
        "outputId": "366e0057-2926-4980-adc9-1459fb58a00d"
      },
      "source": [
        "data = pd.read_excel(\"/content/Load Data in kW.xlsx\")\n",
        "data.describe()"
      ],
      "execution_count": 2,
      "outputs": [
        {
          "output_type": "execute_result",
          "data": {
            "text/html": [
              "<div>\n",
              "<style scoped>\n",
              "    .dataframe tbody tr th:only-of-type {\n",
              "        vertical-align: middle;\n",
              "    }\n",
              "\n",
              "    .dataframe tbody tr th {\n",
              "        vertical-align: top;\n",
              "    }\n",
              "\n",
              "    .dataframe thead th {\n",
              "        text-align: right;\n",
              "    }\n",
              "</style>\n",
              "<table border=\"1\" class=\"dataframe\">\n",
              "  <thead>\n",
              "    <tr style=\"text-align: right;\">\n",
              "      <th></th>\n",
              "      <th>5551.82208</th>\n",
              "    </tr>\n",
              "  </thead>\n",
              "  <tbody>\n",
              "    <tr>\n",
              "      <th>count</th>\n",
              "      <td>2183.000000</td>\n",
              "    </tr>\n",
              "    <tr>\n",
              "      <th>mean</th>\n",
              "      <td>6393.616060</td>\n",
              "    </tr>\n",
              "    <tr>\n",
              "      <th>std</th>\n",
              "      <td>17143.020064</td>\n",
              "    </tr>\n",
              "    <tr>\n",
              "      <th>min</th>\n",
              "      <td>3377.919600</td>\n",
              "    </tr>\n",
              "    <tr>\n",
              "      <th>25%</th>\n",
              "      <td>5257.520640</td>\n",
              "    </tr>\n",
              "    <tr>\n",
              "      <th>50%</th>\n",
              "      <td>5935.910400</td>\n",
              "    </tr>\n",
              "    <tr>\n",
              "      <th>75%</th>\n",
              "      <td>6738.692400</td>\n",
              "    </tr>\n",
              "    <tr>\n",
              "      <th>max</th>\n",
              "      <td>805444.430400</td>\n",
              "    </tr>\n",
              "  </tbody>\n",
              "</table>\n",
              "</div>"
            ],
            "text/plain": [
              "          5551.82208\n",
              "count    2183.000000\n",
              "mean     6393.616060\n",
              "std     17143.020064\n",
              "min      3377.919600\n",
              "25%      5257.520640\n",
              "50%      5935.910400\n",
              "75%      6738.692400\n",
              "max    805444.430400"
            ]
          },
          "metadata": {
            "tags": []
          },
          "execution_count": 2
        }
      ]
    },
    {
      "cell_type": "code",
      "metadata": {
        "colab": {
          "base_uri": "https://localhost:8080/",
          "height": 203
        },
        "id": "5SPi0ihr3mse",
        "outputId": "917a8c69-2a7c-46c7-b223-ebf197c03786"
      },
      "source": [
        "data.head()"
      ],
      "execution_count": 3,
      "outputs": [
        {
          "output_type": "execute_result",
          "data": {
            "text/html": [
              "<div>\n",
              "<style scoped>\n",
              "    .dataframe tbody tr th:only-of-type {\n",
              "        vertical-align: middle;\n",
              "    }\n",
              "\n",
              "    .dataframe tbody tr th {\n",
              "        vertical-align: top;\n",
              "    }\n",
              "\n",
              "    .dataframe thead th {\n",
              "        text-align: right;\n",
              "    }\n",
              "</style>\n",
              "<table border=\"1\" class=\"dataframe\">\n",
              "  <thead>\n",
              "    <tr style=\"text-align: right;\">\n",
              "      <th></th>\n",
              "      <th>5551.82208</th>\n",
              "    </tr>\n",
              "  </thead>\n",
              "  <tbody>\n",
              "    <tr>\n",
              "      <th>0</th>\n",
              "      <td>4983.17184</td>\n",
              "    </tr>\n",
              "    <tr>\n",
              "      <th>1</th>\n",
              "      <td>4888.39680</td>\n",
              "    </tr>\n",
              "    <tr>\n",
              "      <th>2</th>\n",
              "      <td>5072.95872</td>\n",
              "    </tr>\n",
              "    <tr>\n",
              "      <th>3</th>\n",
              "      <td>5196.25980</td>\n",
              "    </tr>\n",
              "    <tr>\n",
              "      <th>4</th>\n",
              "      <td>5641.29720</td>\n",
              "    </tr>\n",
              "  </tbody>\n",
              "</table>\n",
              "</div>"
            ],
            "text/plain": [
              "   5551.82208\n",
              "0  4983.17184\n",
              "1  4888.39680\n",
              "2  5072.95872\n",
              "3  5196.25980\n",
              "4  5641.29720"
            ]
          },
          "metadata": {
            "tags": []
          },
          "execution_count": 3
        }
      ]
    },
    {
      "cell_type": "code",
      "metadata": {
        "colab": {
          "base_uri": "https://localhost:8080/"
        },
        "id": "d5QzdVOT3pWB",
        "outputId": "205f00b0-5262-45ce-96fd-99b2e079ba6f"
      },
      "source": [
        "data.info()"
      ],
      "execution_count": 4,
      "outputs": [
        {
          "output_type": "stream",
          "text": [
            "<class 'pandas.core.frame.DataFrame'>\n",
            "RangeIndex: 2183 entries, 0 to 2182\n",
            "Data columns (total 1 columns):\n",
            " #   Column      Non-Null Count  Dtype  \n",
            "---  ------      --------------  -----  \n",
            " 0   5551.82208  2183 non-null   float64\n",
            "dtypes: float64(1)\n",
            "memory usage: 17.2 KB\n"
          ],
          "name": "stdout"
        }
      ]
    },
    {
      "cell_type": "code",
      "metadata": {
        "colab": {
          "base_uri": "https://localhost:8080/",
          "height": 352
        },
        "id": "6xwlBsa-3w_6",
        "outputId": "be3f4891-bec5-4e49-9b36-5d8ff7e9e88f"
      },
      "source": [
        "sns.boxplot(data.iloc[:,0])"
      ],
      "execution_count": 5,
      "outputs": [
        {
          "output_type": "stream",
          "text": [
            "/usr/local/lib/python3.7/dist-packages/seaborn/_decorators.py:43: FutureWarning: Pass the following variable as a keyword arg: x. From version 0.12, the only valid positional argument will be `data`, and passing other arguments without an explicit keyword will result in an error or misinterpretation.\n",
            "  FutureWarning\n"
          ],
          "name": "stderr"
        },
        {
          "output_type": "execute_result",
          "data": {
            "text/plain": [
              "<matplotlib.axes._subplots.AxesSubplot at 0x7f1dc29bdb10>"
            ]
          },
          "metadata": {
            "tags": []
          },
          "execution_count": 5
        },
        {
          "output_type": "display_data",
          "data": {
            "image/png": "[encoded data removed]",
            "text/plain": [
              "<Figure size 432x288 with 1 Axes>"
            ]
          },
          "metadata": {
            "tags": [],
            "needs_background": "light"
          }
        }
      ]
    },
    {
      "cell_type": "code",
      "metadata": {
        "colab": {
          "base_uri": "https://localhost:8080/"
        },
        "id": "0qYfPnrB4ElE",
        "outputId": "865b452a-df7c-4102-eac2-4328f2f0b2f1"
      },
      "source": [
        "z = np.abs(stats.zscore(data))\n",
        "print(z)"
      ],
      "execution_count": 6,
      "outputs": [
        {
          "output_type": "stream",
          "text": [
            "[[0.08229398]\n",
            " [0.08782374]\n",
            " [0.07705526]\n",
            " ...\n",
            " [0.09743715]\n",
            " [0.07254415]\n",
            " [0.03178457]]\n"
          ],
          "name": "stdout"
        }
      ]
    },
    {
      "cell_type": "code",
      "metadata": {
        "colab": {
          "base_uri": "https://localhost:8080/",
          "height": 406
        },
        "id": "m1-CRBSd4S_G",
        "outputId": "fe5ba33a-4602-4030-f721-458ca837b6bf"
      },
      "source": [
        "data.iloc[928,0] = data.iloc[927,0]\n",
        "plt.boxplot(data.iloc[:,0])"
      ],
      "execution_count": 7,
      "outputs": [
        {
          "output_type": "execute_result",
          "data": {
            "text/plain": [
              "{'boxes': [<matplotlib.lines.Line2D at 0x7f1dc1dffb10>],\n",
              " 'caps': [<matplotlib.lines.Line2D at 0x7f1dc1e07b90>,\n",
              "  <matplotlib.lines.Line2D at 0x7f1dc1e0c110>],\n",
              " 'fliers': [<matplotlib.lines.Line2D at 0x7f1dc1e0cbd0>],\n",
              " 'means': [],\n",
              " 'medians': [<matplotlib.lines.Line2D at 0x7f1dc1e0c690>],\n",
              " 'whiskers': [<matplotlib.lines.Line2D at 0x7f1dc1e07110>,\n",
              "  <matplotlib.lines.Line2D at 0x7f1dc1e07650>]}"
            ]
          },
          "metadata": {
            "tags": []
          },
          "execution_count": 7
        },
        {
          "output_type": "display_data",
          "data": {
            "image/png": "[encoded data removed]",
            "text/plain": [
              "<Figure size 432x288 with 1 Axes>"
            ]
          },
          "metadata": {
            "tags": [],
            "needs_background": "light"
          }
        }
      ]
    },
    {
      "cell_type": "code",
      "metadata": {
        "id": "yeUdJqQ94dtI"
      },
      "source": [
        "x = []\n",
        "y = []\n",
        "for i in range(len(data.iloc[:,0])-24):\n",
        "  x.append(data.iloc[i,0])\n",
        "  y.append(data.iloc[i+24,0])"
      ],
      "execution_count": 8,
      "outputs": []
    },
    {
      "cell_type": "code",
      "metadata": {
        "colab": {
          "base_uri": "https://localhost:8080/"
        },
        "id": "anqEq5DR7VDN",
        "outputId": "567119c5-b8f8-41a1-f2ad-0ea30dc81b59"
      },
      "source": [
        "x = minmax_scale(x)\n",
        "y = minmax_scale(y)\n",
        "data_n= []\n",
        "for i in range(len(x)):\n",
        "  data_n.append((x[i],y[i]))\n",
        "print(len(data_n))\n",
        "train_data_n,test_data_n = train_test_split(data_n,test_size=0.1)\n",
        "len(train_data_n)"
      ],
      "execution_count": 14,
      "outputs": [
        {
          "output_type": "stream",
          "text": [
            "2159\n"
          ],
          "name": "stdout"
        },
        {
          "output_type": "execute_result",
          "data": {
            "text/plain": [
              "1943"
            ]
          },
          "metadata": {
            "tags": []
          },
          "execution_count": 14
        }
      ]
    },
    {
      "cell_type": "code",
      "metadata": {
        "id": "zTGwIG1-4wz9"
      },
      "source": [
        "m = 1\n",
        "c = 1\n",
        "learning_rate = 0.01\n",
        "epochs = 10\n",
        "momentum_coefficient= 0.9\n",
        "batch_size = 300\n",
        "v_m = 0\n",
        "v_c = 0\n",
        "def gradient_of_m(d,m,c,v_m,v_c,momentum_coefficient):\n",
        "  sum = 0\n",
        "  for i in range(len(d)):\n",
        "    sum = sum + (d[i][1]-(m+momentum_coefficient*v_m)*d[i][0]-(c+momentum_coefficient*v_c))*d[i][0]\n",
        "  return -1*sum/len(d)\n",
        "def gradient_of_c(d,m,c,v_m,v_c,momentum_coefficient):\n",
        "  sum = 0\n",
        "  for i in range(len(d)):\n",
        "    sum = sum + (d[i][1]-(m+momentum_coefficient*v_m)*d[i][0]-(c+momentum_coefficient*v_c))\n",
        "  return -1*sum/len(d)\n",
        "def error(d,m,c):\n",
        "  sum = 0\n",
        "  for i in range(len(d)):\n",
        "    sum = sum + math.pow(d[i][1]-m*d[i][0]-c,2)\n",
        "  return 0.5*sum/len(d)"
      ],
      "execution_count": 15,
      "outputs": []
    },
    {
      "cell_type": "code",
      "metadata": {
        "colab": {
          "base_uri": "https://localhost:8080/"
        },
        "id": "oSzPcKDK8Nk9",
        "outputId": "252ec024-03c9-4c7d-f1b3-12035cc660f9"
      },
      "source": [
        "error_list = []\n",
        "number_of_batches = (len(train_data_n)//batch_size)\n",
        "for i in range(epochs):\n",
        "  for j in range(number_of_batches+1):\n",
        "    if j == number_of_batches:\n",
        "      d = train_data_n[j*batch_size:]\n",
        "    else:\n",
        "      d = train_data_n[j*batch_size:(j+1)*batch_size]\n",
        "    delta_m = -1*learning_rate*gradient_of_m(d,m,c,v_m,v_c,momentum_coefficient)\n",
        "    delta_c = -1*learning_rate*gradient_of_c(d,m,c,v_m,v_c,momentum_coefficient)\n",
        "    v_m = v_m*momentum_coefficient + delta_m\n",
        "    v_c = v_c*momentum_coefficient + delta_c\n",
        "    m = m + v_m\n",
        "    c = c + v_c\n",
        "    print(\" error {}\".format(error(d,m,c)))\n",
        "    error_list.append(error(d,m,c))\n",
        "random.shuffle(train_data_n)"
      ],
      "execution_count": 16,
      "outputs": [
        {
          "output_type": "stream",
          "text": [
            " error 0.5005836492576534\n",
            " error 0.4732699013780082\n",
            " error 0.4583406807867307\n",
            " error 0.4043195109871779\n",
            " error 0.370551458886974\n",
            " error 0.31848251781922493\n",
            " error 0.2781574356073435\n",
            " error 0.23863000122909825\n",
            " error 0.19664095911241297\n",
            " error 0.16983950987183966\n",
            " error 0.12595674856296135\n",
            " error 0.10306145614209755\n",
            " error 0.07532959753579398\n",
            " error 0.057907553586996105\n",
            " error 0.0417632422979887\n",
            " error 0.030194649864025366\n",
            " error 0.02293529095579667\n",
            " error 0.013159463945367366\n",
            " error 0.011590140666087217\n",
            " error 0.008862248776343706\n",
            " error 0.009167363350656483\n",
            " error 0.008750952829485532\n",
            " error 0.012699075891910416\n",
            " error 0.010693753779436902\n",
            " error 0.014260830003937472\n",
            " error 0.01583903086717437\n",
            " error 0.017565552480196943\n",
            " error 0.018699284171601938\n",
            " error 0.01886163461371973\n",
            " error 0.02300015899557465\n",
            " error 0.01794086866881621\n",
            " error 0.02126316000172116\n",
            " error 0.02015805722942878\n",
            " error 0.019853250127159987\n",
            " error 0.018884076562591324\n",
            " error 0.017204113482059323\n",
            " error 0.019569501690006243\n",
            " error 0.01386674462752057\n",
            " error 0.015256118663739236\n",
            " error 0.014040786214306206\n",
            " error 0.013124167743386879\n",
            " error 0.012434032097382159\n",
            " error 0.010813348661946066\n",
            " error 0.012974796746669614\n",
            " error 0.009123774311376903\n",
            " error 0.009446443083055756\n",
            " error 0.009635999177885749\n",
            " error 0.00901181073631861\n",
            " error 0.009329697056690121\n",
            " error 0.008283769654894758\n",
            " error 0.010562449244231357\n",
            " error 0.00833488393389912\n",
            " error 0.007885890908016124\n",
            " error 0.008992376831707682\n",
            " error 0.008415053879187503\n",
            " error 0.009188256168174265\n",
            " error 0.008320749008794011\n",
            " error 0.010496460203983078\n",
            " error 0.008871937023456952\n",
            " error 0.00791943344256577\n",
            " error 0.00925142781341554\n",
            " error 0.008560221202507878\n",
            " error 0.009372706621172797\n",
            " error 0.008466788052673774\n",
            " error 0.010561091372386469\n",
            " error 0.008934952690085428\n",
            " error 0.007901858961853024\n",
            " error 0.009183639676350198\n",
            " error 0.008475752147771153\n",
            " error 0.009243233696190643\n"
          ],
          "name": "stdout"
        }
      ]
    },
    {
      "cell_type": "code",
      "metadata": {
        "colab": {
          "base_uri": "https://localhost:8080/",
          "height": 298
        },
        "id": "Owg4cC87MLmS",
        "outputId": "893c64d5-8044-412a-9251-13e534c5fb7f"
      },
      "source": [
        "x_1 = range(len(error_list))\n",
        "y_1 = error_list\n",
        "plt.plot(x_1,y_1)\n",
        "plt.title(\"error graph\")"
      ],
      "execution_count": 17,
      "outputs": [
        {
          "output_type": "execute_result",
          "data": {
            "text/plain": [
              "Text(0.5, 1.0, 'error graph')"
            ]
          },
          "metadata": {
            "tags": []
          },
          "execution_count": 17
        },
        {
          "output_type": "display_data",
          "data": {
            "image/png": "[encoded data removed]",
            "text/plain": [
              "<Figure size 432x288 with 1 Axes>"
            ]
          },
          "metadata": {
            "tags": [],
            "needs_background": "light"
          }
        }
      ]
    },
    {
      "cell_type": "code",
      "metadata": {
        "colab": {
          "base_uri": "https://localhost:8080/"
        },
        "id": "kjv_t64ONKCY",
        "outputId": "766d77ec-2148-490a-df15-d65863b841e8"
      },
      "source": [
        "print(\"train error :\",error(train_data_n,m,c))\n",
        "print(\"test error :\",error(test_data_n,m,c))\n",
        "print(m,c)"
      ],
      "execution_count": 18,
      "outputs": [
        {
          "output_type": "stream",
          "text": [
            "train error : 0.008871665938053816\n",
            "test error : 0.01011383048657406\n",
            "0.630160254052654 0.1968210556051388\n"
          ],
          "name": "stdout"
        }
      ]
    },
    {
      "cell_type": "code",
      "metadata": {
        "colab": {
          "base_uri": "https://localhost:8080/",
          "height": 282
        },
        "id": "b-DMxHQvNjIN",
        "outputId": "58b54b54-a042-455a-b64d-fd08a3c5da97"
      },
      "source": [
        "plt.scatter(x,y)\n",
        "x1 = x\n",
        "y1 = [i*m+c for i in x1]\n",
        "plt.plot(x1,y1)"
      ],
      "execution_count": 19,
      "outputs": [
        {
          "output_type": "execute_result",
          "data": {
            "text/plain": [
              "[<matplotlib.lines.Line2D at 0x7f1dc2464890>]"
            ]
          },
          "metadata": {
            "tags": []
          },
          "execution_count": 19
        },
        {
          "output_type": "display_data",
          "data": {
            "image/png": "[encoded data removed]",
            "text/plain": [
              "<Figure size 432x288 with 1 Axes>"
            ]
          },
          "metadata": {
            "tags": [],
            "needs_background": "light"
          }
        }
      ]
    },
    {
      "cell_type": "code",
      "metadata": {
        "colab": {
          "base_uri": "https://localhost:8080/"
        },
        "id": "UdfgjimqNqjD",
        "outputId": "08380fb4-58f0-4729-a21b-8a1e9e23c278"
      },
      "source": [
        "input_load = float(input(\"enter yesterday load at this time : \"))\n",
        "maximum_value = 8841.669480\n",
        "minimum_value = 3377.919600\n",
        "input_load = (input_load - minimum_value)/(maximum_value-minimum_value)\n",
        "output_load = input_load*m+c\n",
        "output_load = output_load*(maximum_value-minimum_value)+minimum_value\n",
        "print(\"predicted load for this hour is : \",output_load)"
      ],
      "execution_count": 20,
      "outputs": [
        {
          "output_type": "stream",
          "text": [
            "enter yesterday load at this time : 5555.5\n",
            "predicted load for this hour is :  5825.5252370281305\n"
          ],
          "name": "stdout"
        }
      ]
    }
  ]
}