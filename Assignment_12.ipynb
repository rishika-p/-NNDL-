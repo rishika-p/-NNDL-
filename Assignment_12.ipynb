{
  "nbformat": 4,
  "nbformat_minor": 0,
  "metadata": {
    "colab": {
      "name": "Assignment_12.ipynb",
      "provenance": [],
      "authorship_tag": "ABX9TyPW488sdyqNRWS6h9iVU7eI",
      "include_colab_link": true
    },
    "kernelspec": {
      "name": "python3",
      "display_name": "Python 3"
    },
    "language_info": {
      "name": "python"
    }
  },
  "cells": [
    {
      "cell_type": "markdown",
      "metadata": {
        "id": "view-in-github",
        "colab_type": "text"
      },
      "source": [
        "<a href=\"https://colab.research.google.com/github/rishika-p/-NNDL-/blob/main/Assignment_12.ipynb\" target=\"_parent\"><img src=\"https://colab.research.google.com/assets/colab-badge.svg\" alt=\"Open In Colab\"/></a>"
      ]
    },
    {
      "cell_type": "code",
      "metadata": {
        "id": "91SEKh2o2sUC"
      },
      "source": [
        "import math\n",
        "import pandas as pd\n",
        "import numpy as np\n",
        "import random\n",
        "import seaborn as sns\n",
        "import matplotlib.pyplot as plt\n",
        "from sklearn.preprocessing import minmax_scale\n",
        "from sklearn.model_selection import train_test_split\n",
        "from random import shuffle\n",
        "from scipy import stats"
      ],
      "execution_count": 11,
      "outputs": []
    },
    {
      "cell_type": "code",
      "metadata": {
        "colab": {
          "base_uri": "https://localhost:8080/",
          "height": 296
        },
        "id": "ZBAxlseO3UNL",
        "outputId": "94c5d440-7604-42e5-c446-253f8b7b06f6"
      },
      "source": [
        "data = pd.read_excel(\"/content/Load Data in kW.xlsx\")\n",
        "data.describe()"
      ],
      "execution_count": 3,
      "outputs": [
        {
          "output_type": "execute_result",
          "data": {
            "text/html": [
              "<div>\n",
              "<style scoped>\n",
              "    .dataframe tbody tr th:only-of-type {\n",
              "        vertical-align: middle;\n",
              "    }\n",
              "\n",
              "    .dataframe tbody tr th {\n",
              "        vertical-align: top;\n",
              "    }\n",
              "\n",
              "    .dataframe thead th {\n",
              "        text-align: right;\n",
              "    }\n",
              "</style>\n",
              "<table border=\"1\" class=\"dataframe\">\n",
              "  <thead>\n",
              "    <tr style=\"text-align: right;\">\n",
              "      <th></th>\n",
              "      <th>5551.82208</th>\n",
              "    </tr>\n",
              "  </thead>\n",
              "  <tbody>\n",
              "    <tr>\n",
              "      <th>count</th>\n",
              "      <td>2183.000000</td>\n",
              "    </tr>\n",
              "    <tr>\n",
              "      <th>mean</th>\n",
              "      <td>6393.616060</td>\n",
              "    </tr>\n",
              "    <tr>\n",
              "      <th>std</th>\n",
              "      <td>17143.020064</td>\n",
              "    </tr>\n",
              "    <tr>\n",
              "      <th>min</th>\n",
              "      <td>3377.919600</td>\n",
              "    </tr>\n",
              "    <tr>\n",
              "      <th>25%</th>\n",
              "      <td>5257.520640</td>\n",
              "    </tr>\n",
              "    <tr>\n",
              "      <th>50%</th>\n",
              "      <td>5935.910400</td>\n",
              "    </tr>\n",
              "    <tr>\n",
              "      <th>75%</th>\n",
              "      <td>6738.692400</td>\n",
              "    </tr>\n",
              "    <tr>\n",
              "      <th>max</th>\n",
              "      <td>805444.430400</td>\n",
              "    </tr>\n",
              "  </tbody>\n",
              "</table>\n",
              "</div>"
            ],
            "text/plain": [
              "          5551.82208\n",
              "count    2183.000000\n",
              "mean     6393.616060\n",
              "std     17143.020064\n",
              "min      3377.919600\n",
              "25%      5257.520640\n",
              "50%      5935.910400\n",
              "75%      6738.692400\n",
              "max    805444.430400"
            ]
          },
          "metadata": {
            "tags": []
          },
          "execution_count": 3
        }
      ]
    },
    {
      "cell_type": "code",
      "metadata": {
        "colab": {
          "base_uri": "https://localhost:8080/",
          "height": 203
        },
        "id": "5SPi0ihr3mse",
        "outputId": "dfe8b45a-2cdf-4906-b444-39dd84ba7a77"
      },
      "source": [
        "data.head()"
      ],
      "execution_count": 4,
      "outputs": [
        {
          "output_type": "execute_result",
          "data": {
            "text/html": [
              "<div>\n",
              "<style scoped>\n",
              "    .dataframe tbody tr th:only-of-type {\n",
              "        vertical-align: middle;\n",
              "    }\n",
              "\n",
              "    .dataframe tbody tr th {\n",
              "        vertical-align: top;\n",
              "    }\n",
              "\n",
              "    .dataframe thead th {\n",
              "        text-align: right;\n",
              "    }\n",
              "</style>\n",
              "<table border=\"1\" class=\"dataframe\">\n",
              "  <thead>\n",
              "    <tr style=\"text-align: right;\">\n",
              "      <th></th>\n",
              "      <th>5551.82208</th>\n",
              "    </tr>\n",
              "  </thead>\n",
              "  <tbody>\n",
              "    <tr>\n",
              "      <th>0</th>\n",
              "      <td>4983.17184</td>\n",
              "    </tr>\n",
              "    <tr>\n",
              "      <th>1</th>\n",
              "      <td>4888.39680</td>\n",
              "    </tr>\n",
              "    <tr>\n",
              "      <th>2</th>\n",
              "      <td>5072.95872</td>\n",
              "    </tr>\n",
              "    <tr>\n",
              "      <th>3</th>\n",
              "      <td>5196.25980</td>\n",
              "    </tr>\n",
              "    <tr>\n",
              "      <th>4</th>\n",
              "      <td>5641.29720</td>\n",
              "    </tr>\n",
              "  </tbody>\n",
              "</table>\n",
              "</div>"
            ],
            "text/plain": [
              "   5551.82208\n",
              "0  4983.17184\n",
              "1  4888.39680\n",
              "2  5072.95872\n",
              "3  5196.25980\n",
              "4  5641.29720"
            ]
          },
          "metadata": {
            "tags": []
          },
          "execution_count": 4
        }
      ]
    },
    {
      "cell_type": "code",
      "metadata": {
        "colab": {
          "base_uri": "https://localhost:8080/"
        },
        "id": "d5QzdVOT3pWB",
        "outputId": "ecb1ea00-65d4-4ba4-b01c-dea08099ef14"
      },
      "source": [
        "data.info()"
      ],
      "execution_count": 6,
      "outputs": [
        {
          "output_type": "stream",
          "text": [
            "<class 'pandas.core.frame.DataFrame'>\n",
            "RangeIndex: 2183 entries, 0 to 2182\n",
            "Data columns (total 1 columns):\n",
            " #   Column      Non-Null Count  Dtype  \n",
            "---  ------      --------------  -----  \n",
            " 0   5551.82208  2183 non-null   float64\n",
            "dtypes: float64(1)\n",
            "memory usage: 17.2 KB\n"
          ],
          "name": "stdout"
        }
      ]
    },
    {
      "cell_type": "code",
      "metadata": {
        "colab": {
          "base_uri": "https://localhost:8080/",
          "height": 352
        },
        "id": "6xwlBsa-3w_6",
        "outputId": "6a0b0701-eb39-41e7-dfe4-696eee4b7ee2"
      },
      "source": [
        "sns.boxplot(data.iloc[:,0])"
      ],
      "execution_count": 10,
      "outputs": [
        {
          "output_type": "stream",
          "text": [
            "/usr/local/lib/python3.7/dist-packages/seaborn/_decorators.py:43: FutureWarning: Pass the following variable as a keyword arg: x. From version 0.12, the only valid positional argument will be `data`, and passing other arguments without an explicit keyword will result in an error or misinterpretation.\n",
            "  FutureWarning\n"
          ],
          "name": "stderr"
        },
        {
          "output_type": "execute_result",
          "data": {
            "text/plain": [
              "<matplotlib.axes._subplots.AxesSubplot at 0x7f31176c4290>"
            ]
          },
          "metadata": {
            "tags": []
          },
          "execution_count": 10
        },
        {
          "output_type": "display_data",
          "data": {
            "image/png": "[encoded data removed]",
            "text/plain": [
              "<Figure size 432x288 with 1 Axes>"
            ]
          },
          "metadata": {
            "tags": [],
            "needs_background": "light"
          }
        }
      ]
    },
    {
      "cell_type": "code",
      "metadata": {
        "colab": {
          "base_uri": "https://localhost:8080/"
        },
        "id": "0qYfPnrB4ElE",
        "outputId": "dd6ace52-38db-4c76-eb72-1e1b4bfb629e"
      },
      "source": [
        "z = np.abs(stats.zscore(data))\n",
        "print(z)"
      ],
      "execution_count": 12,
      "outputs": [
        {
          "output_type": "stream",
          "text": [
            "[[0.08229398]\n",
            " [0.08782374]\n",
            " [0.07705526]\n",
            " ...\n",
            " [0.09743715]\n",
            " [0.07254415]\n",
            " [0.03178457]]\n"
          ],
          "name": "stdout"
        }
      ]
    },
    {
      "cell_type": "code",
      "metadata": {
        "colab": {
          "base_uri": "https://localhost:8080/",
          "height": 406
        },
        "id": "m1-CRBSd4S_G",
        "outputId": "fe8a7738-37b8-418e-dd56-8c064d8520f1"
      },
      "source": [
        "data.iloc[928,0] = data.iloc[927,0]\n",
        "plt.boxplot(data.iloc[:,0])"
      ],
      "execution_count": 13,
      "outputs": [
        {
          "output_type": "execute_result",
          "data": {
            "text/plain": [
              "{'boxes': [<matplotlib.lines.Line2D at 0x7f3118642390>],\n",
              " 'caps': [<matplotlib.lines.Line2D at 0x7f311864b6d0>,\n",
              "  <matplotlib.lines.Line2D at 0x7f31185d6d10>],\n",
              " 'fliers': [<matplotlib.lines.Line2D at 0x7f31185d6110>],\n",
              " 'means': [],\n",
              " 'medians': [<matplotlib.lines.Line2D at 0x7f31185d6790>],\n",
              " 'whiskers': [<matplotlib.lines.Line2D at 0x7f3118642f50>,\n",
              "  <matplotlib.lines.Line2D at 0x7f311864b690>]}"
            ]
          },
          "metadata": {
            "tags": []
          },
          "execution_count": 13
        },
        {
          "output_type": "display_data",
          "data": {
            "image/png": "[encoded data removed]",
            "text/plain": [
              "<Figure size 432x288 with 1 Axes>"
            ]
          },
          "metadata": {
            "tags": [],
            "needs_background": "light"
          }
        }
      ]
    },
    {
      "cell_type": "code",
      "metadata": {
        "id": "yeUdJqQ94dtI"
      },
      "source": [
        "x = []\n",
        "y = []\n",
        "for i in range(len(data.iloc[:,0])-24):\n",
        "  x.append(data.iloc[i,0])\n",
        "  y.append(data.iloc[i+24,0])"
      ],
      "execution_count": 17,
      "outputs": []
    },
    {
      "cell_type": "code",
      "metadata": {
        "colab": {
          "base_uri": "https://localhost:8080/"
        },
        "id": "anqEq5DR7VDN",
        "outputId": "b48a7167-44fc-4d2d-dfef-5ee76d2a474d"
      },
      "source": [
        "x = minmax_scale(x)\n",
        "y = minmax_scale(y)\n",
        "data_n= []\n",
        "for i in range(len(x)):\n",
        "  data_n.append((x[i],y[i]))\n",
        "print(len(data_n))\n",
        "train_data_n,test_data_n = train_test_split(data_n,test_size=0.1)\n",
        "len(train_data_n)"
      ],
      "execution_count": 24,
      "outputs": [
        {
          "output_type": "stream",
          "text": [
            "2159\n"
          ],
          "name": "stdout"
        },
        {
          "output_type": "execute_result",
          "data": {
            "text/plain": [
              "1943"
            ]
          },
          "metadata": {
            "tags": []
          },
          "execution_count": 24
        }
      ]
    },
    {
      "cell_type": "code",
      "metadata": {
        "id": "zTGwIG1-4wz9"
      },
      "source": [
        "m = 1\n",
        "c = 1\n",
        "learning_rate = 0.01\n",
        "epochs = 20\n",
        "momentum_coefficient= 0.9\n",
        "batch_size = 500\n",
        "v_m = 0\n",
        "v_c = 0\n",
        "def gradient_of_m(d,m,c,v_m,v_c,momentum_coefficient):\n",
        "  sum = 0\n",
        "  for i in range(len(d)):\n",
        "    sum = sum + (d[i][1]-(m+momentum_coefficient*v_m)*d[i][0]-(c+momentum_coefficient*v_c))*d[i][0]\n",
        "  return -1*sum/len(d)\n",
        "def gradient_of_c(d,m,c,v_m,v_c,momentum_coefficient):\n",
        "  sum = 0\n",
        "  for i in range(len(d)):\n",
        "    sum = sum + (d[i][1]-(m+momentum_coefficient*v_m)*d[i][0]-(c+momentum_coefficient*v_c))\n",
        "  return -1*sum/len(d)\n",
        "def error(d,m,c):\n",
        "  sum = 0\n",
        "  for i in range(len(d)):\n",
        "    sum = sum + math.pow(d[i][1]-m*d[i][0]-c,2)\n",
        "  return 0.5*sum/len(d)"
      ],
      "execution_count": 31,
      "outputs": []
    },
    {
      "cell_type": "code",
      "metadata": {
        "colab": {
          "base_uri": "https://localhost:8080/"
        },
        "id": "oSzPcKDK8Nk9",
        "outputId": "93efe806-fd69-444b-c326-df428f20b6f3"
      },
      "source": [
        "error_list = []\n",
        "number_of_batches = (len(train_data_n)//batch_size)\n",
        "for i in range(epochs):\n",
        "  for j in range(number_of_batches+1):\n",
        "    if j == number_of_batches:\n",
        "      d = train_data_n[j*batch_size:]\n",
        "    else:\n",
        "      d = train_data_n[j*batch_size:(j+1)*batch_size]\n",
        "    delta_m = -1*learning_rate*gradient_of_m(d,m,c,v_m,v_c,momentum_coefficient)\n",
        "    delta_c = -1*learning_rate*gradient_of_c(d,m,c,v_m,v_c,momentum_coefficient)\n",
        "    v_m = v_m*momentum_coefficient + delta_m\n",
        "    v_c = v_c*momentum_coefficient + delta_c\n",
        "    m = m + v_m\n",
        "    c = c + v_c\n",
        "    print(\"epoch {}, batch {}, error {}\".format(i,j,error(d,m,c)))\n",
        "    error_list.append(error(d,m,c))\n",
        "random.shuffle(train_data_n)"
      ],
      "execution_count": 37,
      "outputs": [
        {
          "output_type": "stream",
          "text": [
            "epoch 0, batch 0, error 0.00785212100746273\n",
            "epoch 0, batch 1, error 0.0074780887463878395\n",
            "epoch 0, batch 2, error 0.009809825770539732\n",
            "epoch 0, batch 3, error 0.009250907094118863\n",
            "epoch 1, batch 0, error 0.007850957526436017\n",
            "epoch 1, batch 1, error 0.007474115938080943\n",
            "epoch 1, batch 2, error 0.009807656106069837\n",
            "epoch 1, batch 3, error 0.009249094027839574\n",
            "epoch 2, batch 0, error 0.007849833330867407\n",
            "epoch 2, batch 1, error 0.007470221585180258\n",
            "epoch 2, batch 2, error 0.00980554132125174\n",
            "epoch 2, batch 3, error 0.009247331231292236\n",
            "epoch 3, batch 0, error 0.007848747316939714\n",
            "epoch 3, batch 1, error 0.007466404052294622\n",
            "epoch 3, batch 2, error 0.009803479977188837\n",
            "epoch 3, batch 3, error 0.009245617432927717\n",
            "epoch 4, batch 0, error 0.007847698408123797\n",
            "epoch 4, batch 1, error 0.0074626617458466915\n",
            "epoch 4, batch 2, error 0.009801470671299151\n",
            "epoch 4, batch 3, error 0.009243951389758672\n",
            "epoch 5, batch 0, error 0.007846685556955921\n",
            "epoch 5, batch 1, error 0.007458993101501849\n",
            "epoch 5, batch 2, error 0.009799512048786593\n",
            "epoch 5, batch 3, error 0.009242331883264655\n",
            "epoch 6, batch 0, error 0.00784570774567028\n",
            "epoch 6, batch 1, error 0.007455396577282573\n",
            "epoch 6, batch 2, error 0.009797602807009698\n",
            "epoch 6, batch 3, error 0.009240757717884776\n",
            "epoch 7, batch 0, error 0.007844763985900385\n",
            "epoch 7, batch 1, error 0.007451870651287356\n",
            "epoch 7, batch 2, error 0.009795741694562288\n",
            "epoch 7, batch 3, error 0.009239227721205535\n",
            "epoch 8, batch 0, error 0.00784385331773714\n",
            "epoch 8, batch 1, error 0.007448413822570027\n",
            "epoch 8, batch 2, error 0.009793927507076349\n",
            "epoch 8, batch 3, error 0.009237740745019436\n",
            "epoch 9, batch 0, error 0.007842974808433996\n",
            "epoch 9, batch 1, error 0.0074450246137455125\n",
            "epoch 9, batch 2, error 0.009792159081549668\n",
            "epoch 9, batch 3, error 0.00923629566661159\n",
            "epoch 10, batch 0, error 0.007842127551002543\n",
            "epoch 10, batch 1, error 0.0074417015741310225\n",
            "epoch 10, batch 2, error 0.009790435290572434\n",
            "epoch 10, batch 3, error 0.009234891389849422\n",
            "epoch 11, batch 0, error 0.007841310662873193\n",
            "epoch 11, batch 1, error 0.007438443282583055\n",
            "epoch 11, batch 2, error 0.009788755037332088\n",
            "epoch 11, batch 3, error 0.009233526845855147\n",
            "epoch 12, batch 0, error 0.007840523284722201\n",
            "epoch 12, batch 1, error 0.007435248349551202\n",
            "epoch 12, batch 2, error 0.009787117251820219\n",
            "epoch 12, batch 3, error 0.00923220099320021\n",
            "epoch 13, batch 0, error 0.007839764579503618\n",
            "epoch 13, batch 1, error 0.0074321154181771956\n",
            "epoch 13, batch 2, error 0.009785520888310277\n",
            "epoch 13, batch 3, error 0.009230912817668536\n",
            "epoch 14, batch 0, error 0.007839033731678711\n",
            "epoch 14, batch 1, error 0.007429043164490661\n",
            "epoch 14, batch 2, error 0.009783964923941613\n",
            "epoch 14, batch 3, error 0.009229661331692108\n",
            "epoch 15, batch 0, error 0.007838329946607615\n",
            "epoch 15, batch 1, error 0.007426030296886199\n",
            "epoch 15, batch 2, error 0.009782448358126467\n",
            "epoch 15, batch 3, error 0.009228445573579732\n",
            "epoch 16, batch 0, error 0.007837652450056715\n",
            "epoch 16, batch 1, error 0.007423075555119467\n",
            "epoch 16, batch 2, error 0.009780970212469473\n",
            "epoch 16, batch 3, error 0.009227264606649327\n",
            "epoch 17, batch 0, error 0.007837000487775216\n",
            "epoch 17, batch 1, error 0.007420177709055493\n",
            "epoch 17, batch 2, error 0.009779529530923148\n",
            "epoch 17, batch 3, error 0.009226117518349966\n",
            "epoch 18, batch 0, error 0.007836373325102878\n",
            "epoch 18, batch 1, error 0.007417335557359653\n",
            "epoch 18, batch 2, error 0.00977812537997004\n",
            "epoch 18, batch 3, error 0.009225003419429348\n",
            "epoch 19, batch 0, error 0.007835770246581728\n",
            "epoch 19, batch 1, error 0.007414547926264332\n",
            "epoch 19, batch 2, error 0.009776756848698751\n",
            "epoch 19, batch 3, error 0.009223921443176013\n"
          ],
          "name": "stdout"
        }
      ]
    },
    {
      "cell_type": "code",
      "metadata": {
        "colab": {
          "base_uri": "https://localhost:8080/",
          "height": 298
        },
        "id": "Owg4cC87MLmS",
        "outputId": "7e1d3e2b-64a7-49b9-9bc7-875d59c0f625"
      },
      "source": [
        "x_1 = range(len(error_list))\n",
        "y_1 = error_list\n",
        "plt.plot(x_1,y_1)\n",
        "plt.title(\"error graph\")"
      ],
      "execution_count": 38,
      "outputs": [
        {
          "output_type": "execute_result",
          "data": {
            "text/plain": [
              "Text(0.5, 1.0, 'error graph')"
            ]
          },
          "metadata": {
            "tags": []
          },
          "execution_count": 38
        },
        {
          "output_type": "display_data",
          "data": {
            "image/png": "[encoded data removed]",
            "text/plain": [
              "<Figure size 432x288 with 1 Axes>"
            ]
          },
          "metadata": {
            "tags": [],
            "needs_background": "light"
          }
        }
      ]
    },
    {
      "cell_type": "code",
      "metadata": {
        "colab": {
          "base_uri": "https://localhost:8080/"
        },
        "id": "kjv_t64ONKCY",
        "outputId": "f39de53e-749f-4d02-cb7f-2ad6f819d3b2"
      },
      "source": [
        "print(\"train error :\",error(train_data_n,m,c))\n",
        "print(\"test error :\",error(test_data_n,m,c))\n",
        "print(m,c)"
      ],
      "execution_count": 40,
      "outputs": [
        {
          "output_type": "stream",
          "text": [
            "train error : 0.00854280455308464\n",
            "test error : 0.009548800153502976\n",
            "0.688218467056412 0.15176861503069955\n"
          ],
          "name": "stdout"
        }
      ]
    },
    {
      "cell_type": "code",
      "metadata": {
        "colab": {
          "base_uri": "https://localhost:8080/",
          "height": 282
        },
        "id": "N3wda8DmNXb_",
        "outputId": "547b608d-7306-4048-c79b-a10af12557f8"
      },
      "source": [
        "plt.scatter(x,y)"
      ],
      "execution_count": 41,
      "outputs": [
        {
          "output_type": "execute_result",
          "data": {
            "text/plain": [
              "<matplotlib.collections.PathCollection at 0x7f3115731cd0>"
            ]
          },
          "metadata": {
            "tags": []
          },
          "execution_count": 41
        },
        {
          "output_type": "display_data",
          "data": {
            "image/png": "[encoded data removed]",
            "text/plain": [
              "<Figure size 432x288 with 1 Axes>"
            ]
          },
          "metadata": {
            "tags": [],
            "needs_background": "light"
          }
        }
      ]
    },
    {
      "cell_type": "code",
      "metadata": {
        "colab": {
          "base_uri": "https://localhost:8080/",
          "height": 282
        },
        "id": "b-DMxHQvNjIN",
        "outputId": "5b9c0474-5c7e-4577-93ac-7db73fdc1050"
      },
      "source": [
        "plt.scatter(x,y)\n",
        "x1 = x\n",
        "y1 = [i*m+c for i in x1]\n",
        "plt.plot(x1,y1)"
      ],
      "execution_count": 42,
      "outputs": [
        {
          "output_type": "execute_result",
          "data": {
            "text/plain": [
              "[<matplotlib.lines.Line2D at 0x7f3115681750>]"
            ]
          },
          "metadata": {
            "tags": []
          },
          "execution_count": 42
        },
        {
          "output_type": "display_data",
          "data": {
            "image/png": "[encoded data removed]",
            "text/plain": [
              "<Figure size 432x288 with 1 Axes>"
            ]
          },
          "metadata": {
            "tags": [],
            "needs_background": "light"
          }
        }
      ]
    },
    {
      "cell_type": "code",
      "metadata": {
        "colab": {
          "base_uri": "https://localhost:8080/"
        },
        "id": "UdfgjimqNqjD",
        "outputId": "826cec16-97d0-4057-980d-ea3a7b079d61"
      },
      "source": [
        "input_load = float(input(\"enter yesterday load at this time : \"))\n",
        "maximum_value = 8841.669480\n",
        "minimum_value = 3377.919600\n",
        "input_load = (input_load - minimum_value)/(maximum_value-minimum_value)\n",
        "output_load = input_load*m+c\n",
        "output_load = output_load*(maximum_value-minimum_value)+minimum_value\n",
        "print(\"predicted load for this hour is : \",output_load)"
      ],
      "execution_count": 46,
      "outputs": [
        {
          "output_type": "stream",
          "text": [
            "enter yesterday load at this time : 5555.5\n",
            "predicted load for this hour is :  5705.79639694184\n"
          ],
          "name": "stdout"
        }
      ]
    }
  ]
}