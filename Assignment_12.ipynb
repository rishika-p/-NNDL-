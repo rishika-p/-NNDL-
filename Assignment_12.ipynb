{
  "nbformat": 4,
  "nbformat_minor": 0,
  "metadata": {
    "colab": {
      "name": "Assignment_12.ipynb",
      "provenance": [],
      "authorship_tag": "ABX9TyMp/hWdqjqpHVnkEnT2heZf",
      "include_colab_link": true
    },
    "kernelspec": {
      "name": "python3",
      "display_name": "Python 3"
    },
    "language_info": {
      "name": "python"
    }
  },
  "cells": [
    {
      "cell_type": "markdown",
      "metadata": {
        "id": "view-in-github",
        "colab_type": "text"
      },
      "source": [
        "<a href=\"https://colab.research.google.com/github/rishika-p/-NNDL-/blob/main/Assignment_12.ipynb\" target=\"_parent\"><img src=\"https://colab.research.google.com/assets/colab-badge.svg\" alt=\"Open In Colab\"/></a>"
      ]
    },
    {
      "cell_type": "code",
      "metadata": {
        "id": "91SEKh2o2sUC"
      },
      "source": [
        "import math\n",
        "import pandas as pd\n",
        "import numpy as np\n",
        "import random\n",
        "import seaborn as sns\n",
        "import matplotlib.pyplot as plt\n",
        "from sklearn.preprocessing import minmax_scale\n",
        "from sklearn.model_selection import train_test_split\n",
        "from random import shuffle\n",
        "from scipy import stats"
      ],
      "execution_count": null,
      "outputs": []
    },
    {
      "cell_type": "code",
      "metadata": {
        "colab": {
          "base_uri": "https://localhost:8080/",
          "height": 296
        },
        "id": "ZBAxlseO3UNL",
        "outputId": "94c5d440-7604-42e5-c446-253f8b7b06f6"
      },
      "source": [
        "data = pd.read_excel(\"/content/Load Data in kW.xlsx\")\n",
        "data.describe()"
      ],
      "execution_count": null,
      "outputs": [
        {
          "output_type": "execute_result",
          "data": {
            "text/html": [
              "<div>\n",
              "<style scoped>\n",
              "    .dataframe tbody tr th:only-of-type {\n",
              "        vertical-align: middle;\n",
              "    }\n",
              "\n",
              "    .dataframe tbody tr th {\n",
              "        vertical-align: top;\n",
              "    }\n",
              "\n",
              "    .dataframe thead th {\n",
              "        text-align: right;\n",
              "    }\n",
              "</style>\n",
              "<table border=\"1\" class=\"dataframe\">\n",
              "  <thead>\n",
              "    <tr style=\"text-align: right;\">\n",
              "      <th></th>\n",
              "      <th>5551.82208</th>\n",
              "    </tr>\n",
              "  </thead>\n",
              "  <tbody>\n",
              "    <tr>\n",
              "      <th>count</th>\n",
              "      <td>2183.000000</td>\n",
              "    </tr>\n",
              "    <tr>\n",
              "      <th>mean</th>\n",
              "      <td>6393.616060</td>\n",
              "    </tr>\n",
              "    <tr>\n",
              "      <th>std</th>\n",
              "      <td>17143.020064</td>\n",
              "    </tr>\n",
              "    <tr>\n",
              "      <th>min</th>\n",
              "      <td>3377.919600</td>\n",
              "    </tr>\n",
              "    <tr>\n",
              "      <th>25%</th>\n",
              "      <td>5257.520640</td>\n",
              "    </tr>\n",
              "    <tr>\n",
              "      <th>50%</th>\n",
              "      <td>5935.910400</td>\n",
              "    </tr>\n",
              "    <tr>\n",
              "      <th>75%</th>\n",
              "      <td>6738.692400</td>\n",
              "    </tr>\n",
              "    <tr>\n",
              "      <th>max</th>\n",
              "      <td>805444.430400</td>\n",
              "    </tr>\n",
              "  </tbody>\n",
              "</table>\n",
              "</div>"
            ],
            "text/plain": [
              "          5551.82208\n",
              "count    2183.000000\n",
              "mean     6393.616060\n",
              "std     17143.020064\n",
              "min      3377.919600\n",
              "25%      5257.520640\n",
              "50%      5935.910400\n",
              "75%      6738.692400\n",
              "max    805444.430400"
            ]
          },
          "metadata": {
            "tags": []
          },
          "execution_count": 3
        }
      ]
    },
    {
      "cell_type": "code",
      "metadata": {
        "colab": {
          "base_uri": "https://localhost:8080/",
          "height": 203
        },
        "id": "5SPi0ihr3mse",
        "outputId": "dfe8b45a-2cdf-4906-b444-39dd84ba7a77"
      },
      "source": [
        "data.head()"
      ],
      "execution_count": null,
      "outputs": [
        {
          "output_type": "execute_result",
          "data": {
            "text/html": [
              "<div>\n",
              "<style scoped>\n",
              "    .dataframe tbody tr th:only-of-type {\n",
              "        vertical-align: middle;\n",
              "    }\n",
              "\n",
              "    .dataframe tbody tr th {\n",
              "        vertical-align: top;\n",
              "    }\n",
              "\n",
              "    .dataframe thead th {\n",
              "        text-align: right;\n",
              "    }\n",
              "</style>\n",
              "<table border=\"1\" class=\"dataframe\">\n",
              "  <thead>\n",
              "    <tr style=\"text-align: right;\">\n",
              "      <th></th>\n",
              "      <th>5551.82208</th>\n",
              "    </tr>\n",
              "  </thead>\n",
              "  <tbody>\n",
              "    <tr>\n",
              "      <th>0</th>\n",
              "      <td>4983.17184</td>\n",
              "    </tr>\n",
              "    <tr>\n",
              "      <th>1</th>\n",
              "      <td>4888.39680</td>\n",
              "    </tr>\n",
              "    <tr>\n",
              "      <th>2</th>\n",
              "      <td>5072.95872</td>\n",
              "    </tr>\n",
              "    <tr>\n",
              "      <th>3</th>\n",
              "      <td>5196.25980</td>\n",
              "    </tr>\n",
              "    <tr>\n",
              "      <th>4</th>\n",
              "      <td>5641.29720</td>\n",
              "    </tr>\n",
              "  </tbody>\n",
              "</table>\n",
              "</div>"
            ],
            "text/plain": [
              "   5551.82208\n",
              "0  4983.17184\n",
              "1  4888.39680\n",
              "2  5072.95872\n",
              "3  5196.25980\n",
              "4  5641.29720"
            ]
          },
          "metadata": {
            "tags": []
          },
          "execution_count": 4
        }
      ]
    },
    {
      "cell_type": "code",
      "metadata": {
        "colab": {
          "base_uri": "https://localhost:8080/"
        },
        "id": "d5QzdVOT3pWB",
        "outputId": "ecb1ea00-65d4-4ba4-b01c-dea08099ef14"
      },
      "source": [
        "data.info()"
      ],
      "execution_count": null,
      "outputs": [
        {
          "output_type": "stream",
          "text": [
            "<class 'pandas.core.frame.DataFrame'>\n",
            "RangeIndex: 2183 entries, 0 to 2182\n",
            "Data columns (total 1 columns):\n",
            " #   Column      Non-Null Count  Dtype  \n",
            "---  ------      --------------  -----  \n",
            " 0   5551.82208  2183 non-null   float64\n",
            "dtypes: float64(1)\n",
            "memory usage: 17.2 KB\n"
          ],
          "name": "stdout"
        }
      ]
    },
    {
      "cell_type": "code",
      "metadata": {
        "colab": {
          "base_uri": "https://localhost:8080/",
          "height": 352
        },
        "id": "6xwlBsa-3w_6",
        "outputId": "6a0b0701-eb39-41e7-dfe4-696eee4b7ee2"
      },
      "source": [
        "sns.boxplot(data.iloc[:,0])"
      ],
      "execution_count": null,
      "outputs": [
        {
          "output_type": "stream",
          "text": [
            "/usr/local/lib/python3.7/dist-packages/seaborn/_decorators.py:43: FutureWarning: Pass the following variable as a keyword arg: x. From version 0.12, the only valid positional argument will be `data`, and passing other arguments without an explicit keyword will result in an error or misinterpretation.\n",
            "  FutureWarning\n"
          ],
          "name": "stderr"
        },
        {
          "output_type": "execute_result",
          "data": {
            "text/plain": [
              "<matplotlib.axes._subplots.AxesSubplot at 0x7f31176c4290>"
            ]
          },
          "metadata": {
            "tags": []
          },
          "execution_count": 10
        },
        {
          "output_type": "display_data",
          "data": {
            "image/png": "[encoded data removed]",
            "text/plain": [
              "<Figure size 432x288 with 1 Axes>"
            ]
          },
          "metadata": {
            "tags": [],
            "needs_background": "light"
          }
        }
      ]
    },
    {
      "cell_type": "code",
      "metadata": {
        "colab": {
          "base_uri": "https://localhost:8080/"
        },
        "id": "0qYfPnrB4ElE",
        "outputId": "dd6ace52-38db-4c76-eb72-1e1b4bfb629e"
      },
      "source": [
        "z = np.abs(stats.zscore(data))\n",
        "print(z)"
      ],
      "execution_count": null,
      "outputs": [
        {
          "output_type": "stream",
          "text": [
            "[[0.08229398]\n",
            " [0.08782374]\n",
            " [0.07705526]\n",
            " ...\n",
            " [0.09743715]\n",
            " [0.07254415]\n",
            " [0.03178457]]\n"
          ],
          "name": "stdout"
        }
      ]
    },
    {
      "cell_type": "code",
      "metadata": {
        "colab": {
          "base_uri": "https://localhost:8080/",
          "height": 406
        },
        "id": "m1-CRBSd4S_G",
        "outputId": "fe8a7738-37b8-418e-dd56-8c064d8520f1"
      },
      "source": [
        "data.iloc[928,0] = data.iloc[927,0]\n",
        "plt.boxplot(data.iloc[:,0])"
      ],
      "execution_count": null,
      "outputs": [
        {
          "output_type": "execute_result",
          "data": {
            "text/plain": [
              "{'boxes': [<matplotlib.lines.Line2D at 0x7f3118642390>],\n",
              " 'caps': [<matplotlib.lines.Line2D at 0x7f311864b6d0>,\n",
              "  <matplotlib.lines.Line2D at 0x7f31185d6d10>],\n",
              " 'fliers': [<matplotlib.lines.Line2D at 0x7f31185d6110>],\n",
              " 'means': [],\n",
              " 'medians': [<matplotlib.lines.Line2D at 0x7f31185d6790>],\n",
              " 'whiskers': [<matplotlib.lines.Line2D at 0x7f3118642f50>,\n",
              "  <matplotlib.lines.Line2D at 0x7f311864b690>]}"
            ]
          },
          "metadata": {
            "tags": []
          },
          "execution_count": 13
        },
        {
          "output_type": "display_data",
          "data": {
            "image/png": "[encoded data removed]",
            "text/plain": [
              "<Figure size 432x288 with 1 Axes>"
            ]
          },
          "metadata": {
            "tags": [],
            "needs_background": "light"
          }
        }
      ]
    },
    {
      "cell_type": "code",
      "metadata": {
        "id": "yeUdJqQ94dtI"
      },
      "source": [
        "x = []\n",
        "y = []\n",
        "for i in range(len(data.iloc[:,0])-24):\n",
        "  x.append(data.iloc[i,0])\n",
        "  y.append(data.iloc[i+24,0])"
      ],
      "execution_count": null,
      "outputs": []
    },
    {
      "cell_type": "code",
      "metadata": {
        "colab": {
          "base_uri": "https://localhost:8080/"
        },
        "id": "anqEq5DR7VDN",
        "outputId": "b48a7167-44fc-4d2d-dfef-5ee76d2a474d"
      },
      "source": [
        "x = minmax_scale(x)\n",
        "y = minmax_scale(y)\n",
        "data_n= []\n",
        "for i in range(len(x)):\n",
        "  data_n.append((x[i],y[i]))\n",
        "print(len(data_n))\n",
        "train_data_n,test_data_n = train_test_split(data_n,test_size=0.1)\n",
        "len(train_data_n)"
      ],
      "execution_count": null,
      "outputs": [
        {
          "output_type": "stream",
          "text": [
            "2159\n"
          ],
          "name": "stdout"
        },
        {
          "output_type": "execute_result",
          "data": {
            "text/plain": [
              "1943"
            ]
          },
          "metadata": {
            "tags": []
          },
          "execution_count": 24
        }
      ]
    },
    {
      "cell_type": "code",
      "metadata": {
        "id": "zTGwIG1-4wz9"
      },
      "source": [
        "m = 1\n",
        "c = 1\n",
        "learning_rate = 0.01\n",
        "epochs = 10\n",
        "momentum_coefficient= 0.8\n",
        "batch_size = 300\n",
        "v_m = 0\n",
        "v_c = 0\n",
        "def gradient_of_m(d,m,c,v_m,v_c,momentum_coefficient):\n",
        "  sum = 0\n",
        "  for i in range(len(d)):\n",
        "    sum = sum + (d[i][1]-(m+momentum_coefficient*v_m)*d[i][0]-(c+momentum_coefficient*v_c))*d[i][0]\n",
        "  return -1*sum/len(d)\n",
        "def gradient_of_c(d,m,c,v_m,v_c,momentum_coefficient):\n",
        "  sum = 0\n",
        "  for i in range(len(d)):\n",
        "    sum = sum + (d[i][1]-(m+momentum_coefficient*v_m)*d[i][0]-(c+momentum_coefficient*v_c))\n",
        "  return -1*sum/len(d)\n",
        "def error(d,m,c):\n",
        "  sum = 0\n",
        "  for i in range(len(d)):\n",
        "    sum = sum + math.pow(d[i][1]-m*d[i][0]-c,2)\n",
        "  return 0.5*sum/len(d)"
      ],
      "execution_count": 47,
      "outputs": []
    },
    {
      "cell_type": "code",
      "metadata": {
        "colab": {
          "base_uri": "https://localhost:8080/"
        },
        "id": "oSzPcKDK8Nk9",
        "outputId": "1d9fb2ca-a318-463d-cc37-94977a0eaa2c"
      },
      "source": [
        "error_list = []\n",
        "number_of_batches = (len(train_data_n)//batch_size)\n",
        "for i in range(epochs):\n",
        "  for j in range(number_of_batches+1):\n",
        "    if j == number_of_batches:\n",
        "      d = train_data_n[j*batch_size:]\n",
        "    else:\n",
        "      d = train_data_n[j*batch_size:(j+1)*batch_size]\n",
        "    delta_m = -1*learning_rate*gradient_of_m(d,m,c,v_m,v_c,momentum_coefficient)\n",
        "    delta_c = -1*learning_rate*gradient_of_c(d,m,c,v_m,v_c,momentum_coefficient)\n",
        "    v_m = v_m*momentum_coefficient + delta_m\n",
        "    v_c = v_c*momentum_coefficient + delta_c\n",
        "    m = m + v_m\n",
        "    c = c + v_c\n",
        "    print(\" error {}\".format(error(d,m,c)))\n",
        "    error_list.append(error(d,m,c))\n",
        "random.shuffle(train_data_n)"
      ],
      "execution_count": 48,
      "outputs": [
        {
          "output_type": "stream",
          "text": [
            " error 0.49344723914062694\n",
            " error 0.47622329326986884\n",
            " error 0.4450437790246221\n",
            " error 0.4171834381664133\n",
            " error 0.3780414805696942\n",
            " error 0.34918122597384005\n",
            " error 0.3277395676846733\n",
            " error 0.27448265856894505\n",
            " error 0.24830143185086884\n",
            " error 0.21794978597020465\n",
            " error 0.19225697441944403\n",
            " error 0.16718016727757243\n",
            " error 0.14921242651581532\n",
            " error 0.1384058216477334\n",
            " error 0.10731566271413516\n",
            " error 0.09677287083864927\n",
            " error 0.08347105502513469\n",
            " error 0.07129276164019166\n",
            " error 0.06243388106443884\n",
            " error 0.055680996311913436\n",
            " error 0.05374714780544321\n",
            " error 0.03833573518364386\n",
            " error 0.03604901509410655\n",
            " error 0.03175331581218719\n",
            " error 0.02661546519179382\n",
            " error 0.02503613397819023\n",
            " error 0.022806537006857638\n",
            " error 0.024043378220157046\n",
            " error 0.016089010384542593\n",
            " error 0.016293773291349484\n",
            " error 0.015323331417069668\n",
            " error 0.012825146895019372\n",
            " error 0.013741481535868714\n",
            " error 0.012774186613282192\n",
            " error 0.014686883656564434\n",
            " error 0.00996339235000725\n",
            " error 0.0105687614556328\n",
            " error 0.010651168933605305\n",
            " error 0.009023381244022539\n",
            " error 0.010690800001191492\n",
            " error 0.009941857593677807\n",
            " error 0.011835783009422382\n",
            " error 0.008516796180331096\n",
            " error 0.009023132521936369\n",
            " error 0.009415177422211913\n",
            " error 0.008061869418052696\n",
            " error 0.00994231257154521\n",
            " error 0.009168618965057579\n",
            " error 0.010940457283322887\n",
            " error 0.008253069094718301\n",
            " error 0.008621711399817628\n",
            " error 0.009102561588206675\n",
            " error 0.007835643774332796\n",
            " error 0.009777965942826709\n",
            " error 0.008953666032713215\n",
            " error 0.010632928671794809\n",
            " error 0.00823944434323485\n",
            " error 0.008517103974809384\n",
            " error 0.00902351180366704\n",
            " error 0.00778335217522224\n",
            " error 0.009747267218402446\n",
            " error 0.008887479549445245\n",
            " error 0.010512092854136006\n",
            " error 0.00825911930117569\n",
            " error 0.008487152120395868\n",
            " error 0.0090007414436362\n",
            " error 0.007767330765764859\n",
            " error 0.00974227630977889\n",
            " error 0.00886188217865731\n",
            " error 0.01045659367196378\n"
          ],
          "name": "stdout"
        }
      ]
    },
    {
      "cell_type": "code",
      "metadata": {
        "colab": {
          "base_uri": "https://localhost:8080/",
          "height": 298
        },
        "id": "Owg4cC87MLmS",
        "outputId": "ec647262-11c2-4f91-9d7a-9e1823bde787"
      },
      "source": [
        "x_1 = range(len(error_list))\n",
        "y_1 = error_list\n",
        "plt.plot(x_1,y_1)\n",
        "plt.title(\"error graph\")"
      ],
      "execution_count": 49,
      "outputs": [
        {
          "output_type": "execute_result",
          "data": {
            "text/plain": [
              "Text(0.5, 1.0, 'error graph')"
            ]
          },
          "metadata": {
            "tags": []
          },
          "execution_count": 49
        },
        {
          "output_type": "display_data",
          "data": {
            "image/png": "[encoded data removed]",
            "text/plain": [
              "<Figure size 432x288 with 1 Axes>"
            ]
          },
          "metadata": {
            "tags": [],
            "needs_background": "light"
          }
        }
      ]
    },
    {
      "cell_type": "code",
      "metadata": {
        "colab": {
          "base_uri": "https://localhost:8080/"
        },
        "id": "kjv_t64ONKCY",
        "outputId": "58a1b7f0-9b30-41a5-f56c-c57d45e25cf8"
      },
      "source": [
        "print(\"train error :\",error(train_data_n,m,c))\n",
        "print(\"test error :\",error(test_data_n,m,c))\n",
        "print(m,c)"
      ],
      "execution_count": 51,
      "outputs": [
        {
          "output_type": "stream",
          "text": [
            "train error : 0.008814936453636936\n",
            "test error : 0.009848932336067474\n",
            "0.611845462867108 0.1908347838688542\n"
          ],
          "name": "stdout"
        }
      ]
    },
    {
      "cell_type": "code",
      "metadata": {
        "colab": {
          "base_uri": "https://localhost:8080/",
          "height": 282
        },
        "id": "b-DMxHQvNjIN",
        "outputId": "32b0128e-5e8b-4c56-96ac-961927f6a078"
      },
      "source": [
        "plt.scatter(x,y)\n",
        "x1 = x\n",
        "y1 = [i*m+c for i in x1]\n",
        "plt.plot(x1,y1)"
      ],
      "execution_count": 52,
      "outputs": [
        {
          "output_type": "execute_result",
          "data": {
            "text/plain": [
              "[<matplotlib.lines.Line2D at 0x7f31154f81d0>]"
            ]
          },
          "metadata": {
            "tags": []
          },
          "execution_count": 52
        },
        {
          "output_type": "display_data",
          "data": {
            "image/png": "[encoded data removed]",
            "text/plain": [
              "<Figure size 432x288 with 1 Axes>"
            ]
          },
          "metadata": {
            "tags": [],
            "needs_background": "light"
          }
        }
      ]
    },
    {
      "cell_type": "code",
      "metadata": {
        "colab": {
          "base_uri": "https://localhost:8080/"
        },
        "id": "UdfgjimqNqjD",
        "outputId": "26909a1c-28e6-42c0-9e23-3b9dab601c06"
      },
      "source": [
        "input_load = float(input(\"enter yesterday load at this time : \"))\n",
        "maximum_value = 8841.669480\n",
        "minimum_value = 3377.919600\n",
        "input_load = (input_load - minimum_value)/(maximum_value-minimum_value)\n",
        "output_load = input_load*m+c\n",
        "output_load = output_load*(maximum_value-minimum_value)+minimum_value\n",
        "print(\"predicted load for this hour is : \",output_load)"
      ],
      "execution_count": 53,
      "outputs": [
        {
          "output_type": "stream",
          "text": [
            "enter yesterday load at this time : 5555.5\n",
            "predicted load for this hour is :  5752.93581523162\n"
          ],
          "name": "stdout"
        }
      ]
    }
  ]
}