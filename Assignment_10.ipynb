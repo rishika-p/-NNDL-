{
  "nbformat": 4,
  "nbformat_minor": 0,
  "metadata": {
    "colab": {
      "name": "Assignment_10.ipynb",
      "provenance": [],
      "authorship_tag": "ABX9TyNpw8fXZlqmypCu2obJOFmg",
      "include_colab_link": true
    },
    "kernelspec": {
      "name": "python3",
      "display_name": "Python 3"
    },
    "language_info": {
      "name": "python"
    }
  },
  "cells": [
    {
      "cell_type": "markdown",
      "metadata": {
        "id": "view-in-github",
        "colab_type": "text"
      },
      "source": [
        "<a href=\"https://colab.research.google.com/github/rishika-p/-NNDL-/blob/main/Assignment_10.ipynb\" target=\"_parent\"><img src=\"https://colab.research.google.com/assets/colab-badge.svg\" alt=\"Open In Colab\"/></a>"
      ]
    },
    {
      "cell_type": "code",
      "metadata": {
        "id": "f_Q4nB8bPJPn"
      },
      "source": [
        "import math\n",
        "import pandas as pd\n",
        "import numpy as np\n",
        "import random\n",
        "import seaborn as sns\n",
        "import matplotlib.pyplot as plt\n",
        "from sklearn.preprocessing import minmax_scale\n",
        "from sklearn.model_selection import train_test_split\n",
        "from random import shuffle\n",
        "from scipy import stats"
      ],
      "execution_count": null,
      "outputs": []
    },
    {
      "cell_type": "code",
      "metadata": {
        "colab": {
          "base_uri": "https://localhost:8080/",
          "height": 296
        },
        "id": "m3YBhbgMQL0M",
        "outputId": "24d98fb9-f3ec-4194-d3bc-c917259071ad"
      },
      "source": [
        "data = pd.read_excel(\"/content/Load Data in kW.xlsx\")\n",
        "data.describe()"
      ],
      "execution_count": null,
      "outputs": [
        {
          "output_type": "execute_result",
          "data": {
            "text/html": [
              "<div>\n",
              "<style scoped>\n",
              "    .dataframe tbody tr th:only-of-type {\n",
              "        vertical-align: middle;\n",
              "    }\n",
              "\n",
              "    .dataframe tbody tr th {\n",
              "        vertical-align: top;\n",
              "    }\n",
              "\n",
              "    .dataframe thead th {\n",
              "        text-align: right;\n",
              "    }\n",
              "</style>\n",
              "<table border=\"1\" class=\"dataframe\">\n",
              "  <thead>\n",
              "    <tr style=\"text-align: right;\">\n",
              "      <th></th>\n",
              "      <th>5551.82208</th>\n",
              "    </tr>\n",
              "  </thead>\n",
              "  <tbody>\n",
              "    <tr>\n",
              "      <th>count</th>\n",
              "      <td>2183.000000</td>\n",
              "    </tr>\n",
              "    <tr>\n",
              "      <th>mean</th>\n",
              "      <td>6393.616060</td>\n",
              "    </tr>\n",
              "    <tr>\n",
              "      <th>std</th>\n",
              "      <td>17143.020064</td>\n",
              "    </tr>\n",
              "    <tr>\n",
              "      <th>min</th>\n",
              "      <td>3377.919600</td>\n",
              "    </tr>\n",
              "    <tr>\n",
              "      <th>25%</th>\n",
              "      <td>5257.520640</td>\n",
              "    </tr>\n",
              "    <tr>\n",
              "      <th>50%</th>\n",
              "      <td>5935.910400</td>\n",
              "    </tr>\n",
              "    <tr>\n",
              "      <th>75%</th>\n",
              "      <td>6738.692400</td>\n",
              "    </tr>\n",
              "    <tr>\n",
              "      <th>max</th>\n",
              "      <td>805444.430400</td>\n",
              "    </tr>\n",
              "  </tbody>\n",
              "</table>\n",
              "</div>"
            ],
            "text/plain": [
              "          5551.82208\n",
              "count    2183.000000\n",
              "mean     6393.616060\n",
              "std     17143.020064\n",
              "min      3377.919600\n",
              "25%      5257.520640\n",
              "50%      5935.910400\n",
              "75%      6738.692400\n",
              "max    805444.430400"
            ]
          },
          "metadata": {
            "tags": []
          },
          "execution_count": 2
        }
      ]
    },
    {
      "cell_type": "code",
      "metadata": {
        "id": "0XgW7x__QZUW"
      },
      "source": [
        "import numpy as np\n",
        "import seaborn as sns\n",
        "import math\n",
        "import random\n",
        "import matplotlib.pyplot as plt\n",
        "from random import shuffle\n",
        "from sklearn.preprocessing import minmax_scale\n",
        "from sklearn.model_selection import train_test_split\n",
        "import pandas as pd\n",
        "from scipy import stats"
      ],
      "execution_count": 10,
      "outputs": []
    },
    {
      "cell_type": "code",
      "metadata": {
        "colab": {
          "base_uri": "https://localhost:8080/",
          "height": 296
        },
        "id": "SPrAXFqZhQ5_",
        "outputId": "c76de557-6bef-4f68-8a0a-9212e9ad7391"
      },
      "source": [
        "data = pd.read_excel(\"/content/Load Data in kW.xlsx\")\n",
        "data.describe()"
      ],
      "execution_count": 5,
      "outputs": [
        {
          "output_type": "execute_result",
          "data": {
            "text/html": [
              "<div>\n",
              "<style scoped>\n",
              "    .dataframe tbody tr th:only-of-type {\n",
              "        vertical-align: middle;\n",
              "    }\n",
              "\n",
              "    .dataframe tbody tr th {\n",
              "        vertical-align: top;\n",
              "    }\n",
              "\n",
              "    .dataframe thead th {\n",
              "        text-align: right;\n",
              "    }\n",
              "</style>\n",
              "<table border=\"1\" class=\"dataframe\">\n",
              "  <thead>\n",
              "    <tr style=\"text-align: right;\">\n",
              "      <th></th>\n",
              "      <th>5551.82208</th>\n",
              "    </tr>\n",
              "  </thead>\n",
              "  <tbody>\n",
              "    <tr>\n",
              "      <th>count</th>\n",
              "      <td>2183.000000</td>\n",
              "    </tr>\n",
              "    <tr>\n",
              "      <th>mean</th>\n",
              "      <td>6393.616060</td>\n",
              "    </tr>\n",
              "    <tr>\n",
              "      <th>std</th>\n",
              "      <td>17143.020064</td>\n",
              "    </tr>\n",
              "    <tr>\n",
              "      <th>min</th>\n",
              "      <td>3377.919600</td>\n",
              "    </tr>\n",
              "    <tr>\n",
              "      <th>25%</th>\n",
              "      <td>5257.520640</td>\n",
              "    </tr>\n",
              "    <tr>\n",
              "      <th>50%</th>\n",
              "      <td>5935.910400</td>\n",
              "    </tr>\n",
              "    <tr>\n",
              "      <th>75%</th>\n",
              "      <td>6738.692400</td>\n",
              "    </tr>\n",
              "    <tr>\n",
              "      <th>max</th>\n",
              "      <td>805444.430400</td>\n",
              "    </tr>\n",
              "  </tbody>\n",
              "</table>\n",
              "</div>"
            ],
            "text/plain": [
              "          5551.82208\n",
              "count    2183.000000\n",
              "mean     6393.616060\n",
              "std     17143.020064\n",
              "min      3377.919600\n",
              "25%      5257.520640\n",
              "50%      5935.910400\n",
              "75%      6738.692400\n",
              "max    805444.430400"
            ]
          },
          "metadata": {
            "tags": []
          },
          "execution_count": 5
        }
      ]
    },
    {
      "cell_type": "code",
      "metadata": {
        "colab": {
          "base_uri": "https://localhost:8080/",
          "height": 296
        },
        "id": "bTNH2qqphTuN",
        "outputId": "0cc8fd14-735d-4aa7-d53d-2c7cbf032729"
      },
      "source": [
        "data.describe()"
      ],
      "execution_count": 6,
      "outputs": [
        {
          "output_type": "execute_result",
          "data": {
            "text/html": [
              "<div>\n",
              "<style scoped>\n",
              "    .dataframe tbody tr th:only-of-type {\n",
              "        vertical-align: middle;\n",
              "    }\n",
              "\n",
              "    .dataframe tbody tr th {\n",
              "        vertical-align: top;\n",
              "    }\n",
              "\n",
              "    .dataframe thead th {\n",
              "        text-align: right;\n",
              "    }\n",
              "</style>\n",
              "<table border=\"1\" class=\"dataframe\">\n",
              "  <thead>\n",
              "    <tr style=\"text-align: right;\">\n",
              "      <th></th>\n",
              "      <th>5551.82208</th>\n",
              "    </tr>\n",
              "  </thead>\n",
              "  <tbody>\n",
              "    <tr>\n",
              "      <th>count</th>\n",
              "      <td>2183.000000</td>\n",
              "    </tr>\n",
              "    <tr>\n",
              "      <th>mean</th>\n",
              "      <td>6393.616060</td>\n",
              "    </tr>\n",
              "    <tr>\n",
              "      <th>std</th>\n",
              "      <td>17143.020064</td>\n",
              "    </tr>\n",
              "    <tr>\n",
              "      <th>min</th>\n",
              "      <td>3377.919600</td>\n",
              "    </tr>\n",
              "    <tr>\n",
              "      <th>25%</th>\n",
              "      <td>5257.520640</td>\n",
              "    </tr>\n",
              "    <tr>\n",
              "      <th>50%</th>\n",
              "      <td>5935.910400</td>\n",
              "    </tr>\n",
              "    <tr>\n",
              "      <th>75%</th>\n",
              "      <td>6738.692400</td>\n",
              "    </tr>\n",
              "    <tr>\n",
              "      <th>max</th>\n",
              "      <td>805444.430400</td>\n",
              "    </tr>\n",
              "  </tbody>\n",
              "</table>\n",
              "</div>"
            ],
            "text/plain": [
              "          5551.82208\n",
              "count    2183.000000\n",
              "mean     6393.616060\n",
              "std     17143.020064\n",
              "min      3377.919600\n",
              "25%      5257.520640\n",
              "50%      5935.910400\n",
              "75%      6738.692400\n",
              "max    805444.430400"
            ]
          },
          "metadata": {
            "tags": []
          },
          "execution_count": 6
        }
      ]
    },
    {
      "cell_type": "code",
      "metadata": {
        "colab": {
          "base_uri": "https://localhost:8080/"
        },
        "id": "52XaVGPMhmCe",
        "outputId": "b122c466-7866-4d8d-f781-f197da3ea014"
      },
      "source": [
        "data.info()"
      ],
      "execution_count": 7,
      "outputs": [
        {
          "output_type": "stream",
          "text": [
            "<class 'pandas.core.frame.DataFrame'>\n",
            "RangeIndex: 2183 entries, 0 to 2182\n",
            "Data columns (total 1 columns):\n",
            " #   Column      Non-Null Count  Dtype  \n",
            "---  ------      --------------  -----  \n",
            " 0   5551.82208  2183 non-null   float64\n",
            "dtypes: float64(1)\n",
            "memory usage: 17.2 KB\n"
          ],
          "name": "stdout"
        }
      ]
    },
    {
      "cell_type": "code",
      "metadata": {
        "colab": {
          "base_uri": "https://localhost:8080/",
          "height": 352
        },
        "id": "Wo7qrwNvhqYV",
        "outputId": "7fe5d286-fcd2-4ba9-8bf1-c84aadd56177"
      },
      "source": [
        "sns.boxplot(load_data.iloc[:,0])"
      ],
      "execution_count": 9,
      "outputs": [
        {
          "output_type": "stream",
          "text": [
            "/usr/local/lib/python3.7/dist-packages/seaborn/_decorators.py:43: FutureWarning: Pass the following variable as a keyword arg: x. From version 0.12, the only valid positional argument will be `data`, and passing other arguments without an explicit keyword will result in an error or misinterpretation.\n",
            "  FutureWarning\n"
          ],
          "name": "stderr"
        },
        {
          "output_type": "execute_result",
          "data": {
            "text/plain": [
              "<matplotlib.axes._subplots.AxesSubplot at 0x7f119cac1e50>"
            ]
          },
          "metadata": {
            "tags": []
          },
          "execution_count": 9
        },
        {
          "output_type": "display_data",
          "data": {
            "image/png": "[encoded data removed]",
            "text/plain": [
              "<Figure size 432x288 with 1 Axes>"
            ]
          },
          "metadata": {
            "tags": [],
            "needs_background": "light"
          }
        }
      ]
    },
    {
      "cell_type": "code",
      "metadata": {
        "colab": {
          "base_uri": "https://localhost:8080/"
        },
        "id": "-AfhTDHfh60H",
        "outputId": "c2a4cb26-dbfe-4f7e-dcc3-b1e9a680b793"
      },
      "source": [
        "z = np.abs(stats.zscore(load_data.iloc[:,0]))\n",
        "print(np.where(z > 3))"
      ],
      "execution_count": 11,
      "outputs": [
        {
          "output_type": "stream",
          "text": [
            "(array([928]),)\n"
          ],
          "name": "stdout"
        }
      ]
    },
    {
      "cell_type": "code",
      "metadata": {
        "colab": {
          "base_uri": "https://localhost:8080/",
          "height": 352
        },
        "id": "2R7AxGo7iD-t",
        "outputId": "93d28381-3a85-4f22-a1dc-e66e0e27d66e"
      },
      "source": [
        "load_data.iloc[928,0] = load_data.iloc[927,0]\n",
        "sns.boxplot(load_data.iloc[:,0])"
      ],
      "execution_count": 12,
      "outputs": [
        {
          "output_type": "stream",
          "text": [
            "/usr/local/lib/python3.7/dist-packages/seaborn/_decorators.py:43: FutureWarning: Pass the following variable as a keyword arg: x. From version 0.12, the only valid positional argument will be `data`, and passing other arguments without an explicit keyword will result in an error or misinterpretation.\n",
            "  FutureWarning\n"
          ],
          "name": "stderr"
        },
        {
          "output_type": "execute_result",
          "data": {
            "text/plain": [
              "<matplotlib.axes._subplots.AxesSubplot at 0x7f119cdd3650>"
            ]
          },
          "metadata": {
            "tags": []
          },
          "execution_count": 12
        },
        {
          "output_type": "display_data",
          "data": {
            "image/png": "[encoded data removed]",
            "text/plain": [
              "<Figure size 432x288 with 1 Axes>"
            ]
          },
          "metadata": {
            "tags": [],
            "needs_background": "light"
          }
        }
      ]
    },
    {
      "cell_type": "code",
      "metadata": {
        "colab": {
          "base_uri": "https://localhost:8080/"
        },
        "id": "uETOaLlLjLfj",
        "outputId": "15fc7014-3f8f-4146-d173-0f60f58a7325"
      },
      "source": [
        "x = minmax_scale(x)\n",
        "y = minmax_scale(y)\n",
        "data_n = []\n",
        "for i in range(len(x)):\n",
        "  data_n.append((x[i],y[i]))\n",
        "print(len(data_n))\n",
        "train_data_n,test_data_n = train_test_split(data_n,test_size=0.1)\n",
        "len(train_data_n)"
      ],
      "execution_count": 20,
      "outputs": [
        {
          "output_type": "stream",
          "text": [
            "2159\n"
          ],
          "name": "stdout"
        },
        {
          "output_type": "execute_result",
          "data": {
            "text/plain": [
              "1943"
            ]
          },
          "metadata": {
            "tags": []
          },
          "execution_count": 20
        }
      ]
    },
    {
      "cell_type": "code",
      "metadata": {
        "id": "MzUNcMfmiuJT"
      },
      "source": [
        "m = 1\n",
        "c = 1\n",
        "learning_rate = 0.01\n",
        "epochs = 10\n",
        "batch_size = 200\n",
        "v_m = 0\n",
        "v_c = 0\n",
        "momentum_coefficient = 0.8\n",
        "def gradient_of_m(d,m,c):\n",
        "  sum = 0\n",
        "  for i in range(len(d)):\n",
        "    sum = sum + (d[i][1]-m*d[i][0]-c)*d[i][0]\n",
        "  return -1*sum/len(d)\n",
        "def error(d,m,c):\n",
        "  sum = 0\n",
        "  for i in range(len(d)):\n",
        "    sum = sum + math.pow(d[i][1]-m*d[i][0]-c,2)\n",
        "  return 0.5*sum/len(d)\n",
        "\n",
        "def gradient_of_c(d,m,c):\n",
        "  sum = 0\n",
        "  for i in range(len(d)):\n",
        "    sum = sum + (d[i][1]-m*d[i][0]-c)\n",
        "  return -1*sum/len(d)"
      ],
      "execution_count": 24,
      "outputs": []
    },
    {
      "cell_type": "code",
      "metadata": {
        "colab": {
          "base_uri": "https://localhost:8080/"
        },
        "id": "TCfbyPMEjFJl",
        "outputId": "3b3530d3-2d27-4794-a82a-37388146f354"
      },
      "source": [
        "error_list = []\n",
        "number_of_batches = (len(train_data_n)//batch_size)\n",
        "for i in range(epochs):\n",
        "  for j in range(number_of_batches+1):\n",
        "    if j == number_of_batches:\n",
        "      d = train_data_n[j*batch_size:]\n",
        "    else:\n",
        "      d = train_data_n[j*batch_size:(j+1)*batch_size]\n",
        "    delta_m = -1*learning_rate*gradient_of_m(d,m,c)\n",
        "    delta_c = -1*learning_rate*gradient_of_c(d,m,c)\n",
        "    v_m = v_m*momentum_coefficient + delta_m\n",
        "    v_c = v_c*momentum_coefficient + delta_c\n",
        "    m = m + v_m\n",
        "    c = c + v_c\n",
        "    print(\" error {}\".format(error(d,m,c)))\n",
        "    error_list.append(error(d,m,c))\n",
        "  random.shuffle(train_data_n)\n",
        "  "
      ],
      "execution_count": 30,
      "outputs": [
        {
          "output_type": "stream",
          "text": [
            " error 0.008399685605219566\n",
            " error 0.00913461154877434\n",
            " error 0.007617116781271607\n",
            " error 0.008159194848323021\n",
            " error 0.009344590874120307\n",
            " error 0.00886313162107647\n",
            " error 0.01037394229550539\n",
            " error 0.010081916868355592\n",
            " error 0.008983717003796137\n",
            " error 0.006095387530404288\n",
            " error 0.007195251810121976\n",
            " error 0.008760749854088437\n",
            " error 0.009296625653225421\n",
            " error 0.007027142048331045\n",
            " error 0.009817393876481955\n",
            " error 0.009632067811611024\n",
            " error 0.010569590302444502\n",
            " error 0.008189831229067258\n",
            " error 0.008530328760924081\n",
            " error 0.008729646017086305\n",
            " error 0.009863166366497667\n",
            " error 0.00795771279319018\n",
            " error 0.0073154485243409765\n",
            " error 0.008552817827172361\n",
            " error 0.009864338805734951\n",
            " error 0.008614300528205271\n",
            " error 0.011226146060235533\n",
            " error 0.008051639500645264\n",
            " error 0.00787216187719304\n",
            " error 0.008268033263912802\n",
            " error 0.00838058062690662\n",
            " error 0.010203814540687618\n",
            " error 0.008865254371507382\n",
            " error 0.008594249445217235\n",
            " error 0.006977562071740928\n",
            " error 0.009207511502799895\n",
            " error 0.00836191571120446\n",
            " error 0.0077747170109501\n",
            " error 0.00848548113211489\n",
            " error 0.01161974781701023\n",
            " error 0.008527736813494054\n",
            " error 0.007839145427704662\n",
            " error 0.011963432992376722\n",
            " error 0.007535378190621948\n",
            " error 0.008004439101633011\n",
            " error 0.008888963388751421\n",
            " error 0.011579528853364057\n",
            " error 0.007717320340428549\n",
            " error 0.006925346056897207\n",
            " error 0.00857063784967571\n",
            " error 0.008600135218230399\n",
            " error 0.010733441912326988\n",
            " error 0.00761882170623037\n",
            " error 0.006690752812533845\n",
            " error 0.009942582556155348\n",
            " error 0.009384401761310838\n",
            " error 0.007668621077686423\n",
            " error 0.009972586322275843\n",
            " error 0.009344435213671202\n",
            " error 0.007144775448386219\n",
            " error 0.008056648176655391\n",
            " error 0.007842275563903016\n",
            " error 0.0070843101232524715\n",
            " error 0.00888898039576439\n",
            " error 0.011364856355246106\n",
            " error 0.008374226978886328\n",
            " error 0.00865585371012903\n",
            " error 0.008432119334339534\n",
            " error 0.00892667209392142\n",
            " error 0.010343048517915947\n",
            " error 0.009015972254201653\n",
            " error 0.0083122854763724\n",
            " error 0.008744304578118112\n",
            " error 0.008022684165655108\n",
            " error 0.007441683619923919\n",
            " error 0.011417631583362954\n",
            " error 0.010302401878054077\n",
            " error 0.00674144696634265\n",
            " error 0.0092765735700085\n",
            " error 0.007965190777322042\n",
            " error 0.008280529097225401\n",
            " error 0.010672159809376485\n",
            " error 0.009067612587333598\n",
            " error 0.007715062108611507\n",
            " error 0.009898912102310625\n",
            " error 0.008838200949039213\n",
            " error 0.006589824642729435\n",
            " error 0.008078876254756574\n",
            " error 0.008537466298027907\n",
            " error 0.01015210926262252\n",
            " error 0.009649347205941105\n",
            " error 0.007768820417189457\n",
            " error 0.006577515642160734\n",
            " error 0.008681589704753466\n",
            " error 0.008146204369276728\n",
            " error 0.008355336662746446\n",
            " error 0.01069184958883068\n",
            " error 0.009733153221895796\n",
            " error 0.010396181155856374\n",
            " error 0.006826630509478425\n"
          ],
          "name": "stdout"
        }
      ]
    },
    {
      "cell_type": "code",
      "metadata": {
        "colab": {
          "base_uri": "https://localhost:8080/"
        },
        "id": "6xlRscwalyNK",
        "outputId": "ee039b41-69c0-4756-b13a-f34bb1fa7c78"
      },
      "source": [
        "print(m,c)"
      ],
      "execution_count": 31,
      "outputs": [
        {
          "output_type": "stream",
          "text": [
            "0.6658759317099038 0.16184103367839178\n"
          ],
          "name": "stdout"
        }
      ]
    },
    {
      "cell_type": "code",
      "metadata": {
        "colab": {
          "base_uri": "https://localhost:8080/",
          "height": 298
        },
        "id": "00xIvEuIlPjN",
        "outputId": "1e55d4f1-5fbf-4f29-fa79-348707120440"
      },
      "source": [
        "plt.title(\"error graph\")\n",
        "x_1 = range(len(error_list))\n",
        "y_1 = error_list\n",
        "plt.plot(x_1,y_1)"
      ],
      "execution_count": 27,
      "outputs": [
        {
          "output_type": "execute_result",
          "data": {
            "text/plain": [
              "[<matplotlib.lines.Line2D at 0x7f119a77e290>]"
            ]
          },
          "metadata": {
            "tags": []
          },
          "execution_count": 27
        },
        {
          "output_type": "display_data",
          "data": {
            "image/png": "[encoded data removed]",
            "text/plain": [
              "<Figure size 432x288 with 1 Axes>"
            ]
          },
          "metadata": {
            "tags": [],
            "needs_background": "light"
          }
        }
      ]
    },
    {
      "cell_type": "code",
      "metadata": {
        "colab": {
          "base_uri": "https://localhost:8080/"
        },
        "id": "Q1S_ALiFkX3w",
        "outputId": "fb7ac8f1-5fda-4c0c-88bc-13522e0613c5"
      },
      "source": [
        "print(\"train error :\",error(train_data_n,m,c))\n",
        "print(\"test error :\",error(test_data_n,m,c))"
      ],
      "execution_count": 28,
      "outputs": [
        {
          "output_type": "stream",
          "text": [
            "train error : 0.008850999088102704\n",
            "test error : 0.008403157552452625\n"
          ],
          "name": "stdout"
        }
      ]
    },
    {
      "cell_type": "code",
      "metadata": {
        "colab": {
          "base_uri": "https://localhost:8080/",
          "height": 282
        },
        "id": "yme_8z6Yl24t",
        "outputId": "b71632d5-ae35-4b1e-8e9f-352179c66f48"
      },
      "source": [
        "plt.scatter(x,y)\n",
        "x1 = x\n",
        "y1 = [i*m+c for i in x1]\n",
        "plt.plot(x1,y1)"
      ],
      "execution_count": 34,
      "outputs": [
        {
          "output_type": "execute_result",
          "data": {
            "text/plain": [
              "[<matplotlib.lines.Line2D at 0x7f119a30e990>]"
            ]
          },
          "metadata": {
            "tags": []
          },
          "execution_count": 34
        },
        {
          "output_type": "display_data",
          "data": {
            "image/png": "[encoded data removed]",
            "text/plain": [
              "<Figure size 432x288 with 1 Axes>"
            ]
          },
          "metadata": {
            "tags": [],
            "needs_background": "light"
          }
        }
      ]
    },
    {
      "cell_type": "code",
      "metadata": {
        "colab": {
          "base_uri": "https://localhost:8080/"
        },
        "id": "dnac7xAQmS3L",
        "outputId": "e901318e-db06-4adb-a4db-310197d41e4c"
      },
      "source": [
        "input_load = float(input(\"enter yesterday load : \"))\n",
        "maximum_value = 8841.669480\n",
        "minimum_value = 3377.919600\n",
        "input_load = (input_load - minimum_value)/(maximum_value-minimum_value)\n",
        "output_load = input_load*m+c\n",
        "output_load = output_load*(maximum_value-minimum_value)+minimum_value\n",
        "print(\"predicted load is : \",output_load)"
      ],
      "execution_count": 35,
      "outputs": [
        {
          "output_type": "stream",
          "text": [
            "enter yesterday load : 5555.5\n",
            "predicted load is :  5712.176906062614\n"
          ],
          "name": "stdout"
        }
      ]
    }
  ]
}