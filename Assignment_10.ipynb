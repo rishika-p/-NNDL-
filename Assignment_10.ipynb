{
  "nbformat": 4,
  "nbformat_minor": 0,
  "metadata": {
    "colab": {
      "name": "Assignment_10.ipynb",
      "provenance": [],
      "authorship_tag": "ABX9TyOiCIjvndYgxkVM0bTxIhCR",
      "include_colab_link": true
    },
    "kernelspec": {
      "name": "python3",
      "display_name": "Python 3"
    },
    "language_info": {
      "name": "python"
    }
  },
  "cells": [
    {
      "cell_type": "markdown",
      "metadata": {
        "id": "view-in-github",
        "colab_type": "text"
      },
      "source": [
        "<a href=\"https://colab.research.google.com/github/rishika-p/-NNDL-/blob/main/Assignment_10.ipynb\" target=\"_parent\"><img src=\"https://colab.research.google.com/assets/colab-badge.svg\" alt=\"Open In Colab\"/></a>"
      ]
    },
    {
      "cell_type": "code",
      "metadata": {
        "id": "f_Q4nB8bPJPn"
      },
      "source": [
        "import math\n",
        "import pandas as pd\n",
        "import numpy as np\n",
        "import random\n",
        "import seaborn as sns\n",
        "import matplotlib.pyplot as plt\n",
        "from sklearn.preprocessing import minmax_scale\n",
        "from sklearn.model_selection import train_test_split\n",
        "from random import shuffle\n",
        "from scipy import stats"
      ],
      "execution_count": 23,
      "outputs": []
    },
    {
      "cell_type": "code",
      "metadata": {
        "colab": {
          "base_uri": "https://localhost:8080/",
          "height": 296
        },
        "id": "m3YBhbgMQL0M",
        "outputId": "d8503ca5-a082-418a-ea9c-01dc5a626f21"
      },
      "source": [
        "data = pd.read_excel(\"/content/Load Data in kW.xlsx\")\n",
        "data.describe()"
      ],
      "execution_count": 14,
      "outputs": [
        {
          "output_type": "execute_result",
          "data": {
            "text/html": [
              "<div>\n",
              "<style scoped>\n",
              "    .dataframe tbody tr th:only-of-type {\n",
              "        vertical-align: middle;\n",
              "    }\n",
              "\n",
              "    .dataframe tbody tr th {\n",
              "        vertical-align: top;\n",
              "    }\n",
              "\n",
              "    .dataframe thead th {\n",
              "        text-align: right;\n",
              "    }\n",
              "</style>\n",
              "<table border=\"1\" class=\"dataframe\">\n",
              "  <thead>\n",
              "    <tr style=\"text-align: right;\">\n",
              "      <th></th>\n",
              "      <th>5551.82208</th>\n",
              "    </tr>\n",
              "  </thead>\n",
              "  <tbody>\n",
              "    <tr>\n",
              "      <th>count</th>\n",
              "      <td>2183.000000</td>\n",
              "    </tr>\n",
              "    <tr>\n",
              "      <th>mean</th>\n",
              "      <td>6393.616060</td>\n",
              "    </tr>\n",
              "    <tr>\n",
              "      <th>std</th>\n",
              "      <td>17143.020064</td>\n",
              "    </tr>\n",
              "    <tr>\n",
              "      <th>min</th>\n",
              "      <td>3377.919600</td>\n",
              "    </tr>\n",
              "    <tr>\n",
              "      <th>25%</th>\n",
              "      <td>5257.520640</td>\n",
              "    </tr>\n",
              "    <tr>\n",
              "      <th>50%</th>\n",
              "      <td>5935.910400</td>\n",
              "    </tr>\n",
              "    <tr>\n",
              "      <th>75%</th>\n",
              "      <td>6738.692400</td>\n",
              "    </tr>\n",
              "    <tr>\n",
              "      <th>max</th>\n",
              "      <td>805444.430400</td>\n",
              "    </tr>\n",
              "  </tbody>\n",
              "</table>\n",
              "</div>"
            ],
            "text/plain": [
              "          5551.82208\n",
              "count    2183.000000\n",
              "mean     6393.616060\n",
              "std     17143.020064\n",
              "min      3377.919600\n",
              "25%      5257.520640\n",
              "50%      5935.910400\n",
              "75%      6738.692400\n",
              "max    805444.430400"
            ]
          },
          "metadata": {
            "tags": []
          },
          "execution_count": 14
        }
      ]
    },
    {
      "cell_type": "code",
      "metadata": {
        "colab": {
          "base_uri": "https://localhost:8080/"
        },
        "id": "52XaVGPMhmCe",
        "outputId": "00a0c2e4-249f-4e5e-f541-a654024066ab"
      },
      "source": [
        "data.info()"
      ],
      "execution_count": 15,
      "outputs": [
        {
          "output_type": "stream",
          "text": [
            "<class 'pandas.core.frame.DataFrame'>\n",
            "RangeIndex: 2183 entries, 0 to 2182\n",
            "Data columns (total 1 columns):\n",
            " #   Column      Non-Null Count  Dtype  \n",
            "---  ------      --------------  -----  \n",
            " 0   5551.82208  2183 non-null   float64\n",
            "dtypes: float64(1)\n",
            "memory usage: 17.2 KB\n"
          ],
          "name": "stdout"
        }
      ]
    },
    {
      "cell_type": "code",
      "metadata": {
        "colab": {
          "base_uri": "https://localhost:8080/",
          "height": 352
        },
        "id": "Wo7qrwNvhqYV",
        "outputId": "2f5a2378-de10-49d6-8abf-1691b82b60d6"
      },
      "source": [
        "sns.boxplot(data.iloc[:,0])"
      ],
      "execution_count": 16,
      "outputs": [
        {
          "output_type": "stream",
          "text": [
            "/usr/local/lib/python3.7/dist-packages/seaborn/_decorators.py:43: FutureWarning: Pass the following variable as a keyword arg: x. From version 0.12, the only valid positional argument will be `data`, and passing other arguments without an explicit keyword will result in an error or misinterpretation.\n",
            "  FutureWarning\n"
          ],
          "name": "stderr"
        },
        {
          "output_type": "execute_result",
          "data": {
            "text/plain": [
              "<matplotlib.axes._subplots.AxesSubplot at 0x7fa80b3af9d0>"
            ]
          },
          "metadata": {
            "tags": []
          },
          "execution_count": 16
        },
        {
          "output_type": "display_data",
          "data": {
            "image/png": "[encoded data removed]",
            "text/plain": [
              "<Figure size 432x288 with 1 Axes>"
            ]
          },
          "metadata": {
            "tags": [],
            "needs_background": "light"
          }
        }
      ]
    },
    {
      "cell_type": "code",
      "metadata": {
        "colab": {
          "base_uri": "https://localhost:8080/"
        },
        "id": "-AfhTDHfh60H",
        "outputId": "11736ada-6de9-42a9-8037-bd1129b95e93"
      },
      "source": [
        "z = np.abs(stats.zscore(data.iloc[:,0]))\n",
        "print(np.where(z > 3))"
      ],
      "execution_count": 18,
      "outputs": [
        {
          "output_type": "stream",
          "text": [
            "(array([928]),)\n"
          ],
          "name": "stdout"
        }
      ]
    },
    {
      "cell_type": "code",
      "metadata": {
        "colab": {
          "base_uri": "https://localhost:8080/",
          "height": 352
        },
        "id": "2R7AxGo7iD-t",
        "outputId": "9e012319-fa33-4749-cd2a-e6861f5b81ed"
      },
      "source": [
        "data.iloc[928,0] = data.iloc[927,0]\n",
        "sns.boxplot(data.iloc[:,0])"
      ],
      "execution_count": 19,
      "outputs": [
        {
          "output_type": "stream",
          "text": [
            "/usr/local/lib/python3.7/dist-packages/seaborn/_decorators.py:43: FutureWarning: Pass the following variable as a keyword arg: x. From version 0.12, the only valid positional argument will be `data`, and passing other arguments without an explicit keyword will result in an error or misinterpretation.\n",
            "  FutureWarning\n"
          ],
          "name": "stderr"
        },
        {
          "output_type": "execute_result",
          "data": {
            "text/plain": [
              "<matplotlib.axes._subplots.AxesSubplot at 0x7fa80b478d50>"
            ]
          },
          "metadata": {
            "tags": []
          },
          "execution_count": 19
        },
        {
          "output_type": "display_data",
          "data": {
            "image/png": "[encoded data removed]",
            "text/plain": [
              "<Figure size 432x288 with 1 Axes>"
            ]
          },
          "metadata": {
            "tags": [],
            "needs_background": "light"
          }
        }
      ]
    },
    {
      "cell_type": "code",
      "metadata": {
        "id": "ID9raxcsPh0-"
      },
      "source": [
        "x = []\n",
        "y = []\n",
        "for i in range(len(data.iloc[:,0])-24):\n",
        "  x.append(data.iloc[i,0])\n",
        "  y.append(data.iloc[i+24,0])"
      ],
      "execution_count": 24,
      "outputs": []
    },
    {
      "cell_type": "code",
      "metadata": {
        "colab": {
          "base_uri": "https://localhost:8080/"
        },
        "id": "uETOaLlLjLfj",
        "outputId": "5835d352-17d7-4ca4-dd4c-91b1c0518934"
      },
      "source": [
        "x = minmax_scale(x)\n",
        "y = minmax_scale(y)\n",
        "data_n = []\n",
        "for i in range(len(x)):\n",
        "  data_n.append((x[i],y[i]))\n",
        "print(len(data_n))\n",
        "train_data_n,test_data_n = train_test_split(data_n,test_size=0.1)\n",
        "len(train_data_n)"
      ],
      "execution_count": 25,
      "outputs": [
        {
          "output_type": "stream",
          "text": [
            "2159\n"
          ],
          "name": "stdout"
        },
        {
          "output_type": "execute_result",
          "data": {
            "text/plain": [
              "1943"
            ]
          },
          "metadata": {
            "tags": []
          },
          "execution_count": 25
        }
      ]
    },
    {
      "cell_type": "code",
      "metadata": {
        "id": "MzUNcMfmiuJT"
      },
      "source": [
        "m = 1\n",
        "c = 1\n",
        "learning_rate = 0.01\n",
        "epochs = 10\n",
        "batch_size = 200\n",
        "v_m = 0\n",
        "v_c = 0\n",
        "momentum_coefficient = 0.9\n",
        "def gradient_of_m(d,m,c):\n",
        "  sum = 0\n",
        "  for i in range(len(d)):\n",
        "    sum = sum + (d[i][1]-m*d[i][0]-c)*d[i][0]\n",
        "  return -1*sum/len(d)\n",
        "def error(d,m,c):\n",
        "  sum = 0\n",
        "  for i in range(len(d)):\n",
        "    sum = sum + math.pow(d[i][1]-m*d[i][0]-c,2)\n",
        "  return 0.5*sum/len(d)\n",
        "\n",
        "def gradient_of_c(d,m,c):\n",
        "  sum = 0\n",
        "  for i in range(len(d)):\n",
        "    sum = sum + (d[i][1]-m*d[i][0]-c)\n",
        "  return -1*sum/len(d)"
      ],
      "execution_count": 30,
      "outputs": []
    },
    {
      "cell_type": "code",
      "metadata": {
        "colab": {
          "base_uri": "https://localhost:8080/"
        },
        "id": "TCfbyPMEjFJl",
        "outputId": "9c8031d9-3d22-4dfa-d9f7-9457f86a6a66"
      },
      "source": [
        "error_list = []\n",
        "number_of_batches = (len(train_data_n)//batch_size)\n",
        "for i in range(epochs):\n",
        "  for j in range(number_of_batches+1):\n",
        "    if j == number_of_batches:\n",
        "      d = train_data_n[j*batch_size:]\n",
        "    else:\n",
        "      d = train_data_n[j*batch_size:(j+1)*batch_size]\n",
        "    delta_m = -1*learning_rate*gradient_of_m(d,m,c)\n",
        "    delta_c = -1*learning_rate*gradient_of_c(d,m,c)\n",
        "    v_m = v_m*momentum_coefficient + delta_m\n",
        "    v_c = v_c*momentum_coefficient + delta_c\n",
        "    m = m + v_m\n",
        "    c = c + v_c\n",
        "    print(\" error {}\".format(error(d,m,c)))\n",
        "    error_list.append(error(d,m,c))\n",
        "  random.shuffle(train_data_n)\n",
        "  "
      ],
      "execution_count": 31,
      "outputs": [
        {
          "output_type": "stream",
          "text": [
            " error 0.48886758152522103\n",
            " error 0.47672457287480974\n",
            " error 0.4535646889905135\n",
            " error 0.4053734319782428\n",
            " error 0.37403608886046685\n",
            " error 0.31968851497192236\n",
            " error 0.27702947770229824\n",
            " error 0.2251658043446985\n",
            " error 0.17979648591863132\n",
            " error 0.16574998225842172\n",
            " error 0.122382559008366\n",
            " error 0.08953317594020829\n",
            " error 0.0686311547455783\n",
            " error 0.05459344505319096\n",
            " error 0.03482841408696408\n",
            " error 0.02375295734441778\n",
            " error 0.015161180215073244\n",
            " error 0.01111033902431391\n",
            " error 0.008631679954928789\n",
            " error 0.01062486511332312\n",
            " error 0.009708767103038191\n",
            " error 0.012351381630176628\n",
            " error 0.01399631763580113\n",
            " error 0.018866673419526792\n",
            " error 0.022010721683720237\n",
            " error 0.02440006625437834\n",
            " error 0.025908656681341923\n",
            " error 0.02481134217672134\n",
            " error 0.02488149486753826\n",
            " error 0.029164422039929555\n",
            " error 0.03191300008474019\n",
            " error 0.026326292793892665\n",
            " error 0.026903512104889435\n",
            " error 0.027997699614776397\n",
            " error 0.022781049220674192\n",
            " error 0.02112418345618447\n",
            " error 0.018963254604716203\n",
            " error 0.015370797017077758\n",
            " error 0.020603431452735143\n",
            " error 0.015423441692312198\n",
            " error 0.014513411390545397\n",
            " error 0.012851457376238516\n",
            " error 0.012637230032978794\n",
            " error 0.011992212082067499\n",
            " error 0.011834397225423468\n",
            " error 0.01013233490811072\n",
            " error 0.009733848806165773\n",
            " error 0.007874267130204763\n",
            " error 0.008484444793305713\n",
            " error 0.008406409925864684\n",
            " error 0.009098931648841724\n",
            " error 0.009870529794458656\n",
            " error 0.01021522742937871\n",
            " error 0.009719807420174986\n",
            " error 0.009140256869516502\n",
            " error 0.009089660238365427\n",
            " error 0.010751549896771809\n",
            " error 0.009050377903908084\n",
            " error 0.0068284049597659964\n",
            " error 0.008504360817834086\n",
            " error 0.008854946013977568\n",
            " error 0.00784109789091809\n",
            " error 0.009878423621311451\n",
            " error 0.00886988120750239\n",
            " error 0.008859580449431408\n",
            " error 0.01008185645185511\n",
            " error 0.009067109339974845\n",
            " error 0.010765466389605467\n",
            " error 0.010406095820669188\n",
            " error 0.010188811756067662\n",
            " error 0.009208439309855659\n",
            " error 0.008590839361613058\n",
            " error 0.009939246857214534\n",
            " error 0.010409403276447078\n",
            " error 0.007802217519077551\n",
            " error 0.008476825032623054\n",
            " error 0.007932670109980337\n",
            " error 0.009954415644221077\n",
            " error 0.009595121510213625\n",
            " error 0.007317190198599011\n",
            " error 0.007742100133707754\n",
            " error 0.008749748418887373\n",
            " error 0.009322039557391564\n",
            " error 0.008055728928583878\n",
            " error 0.00717029813435297\n",
            " error 0.0082701021195681\n",
            " error 0.009054460570512964\n",
            " error 0.00977190612003642\n",
            " error 0.01096842672469808\n",
            " error 0.00968445110098111\n",
            " error 0.009612959880076634\n",
            " error 0.008463595202823568\n",
            " error 0.008187722314664934\n",
            " error 0.007970624660483488\n",
            " error 0.010738976525248845\n",
            " error 0.009819804309978992\n",
            " error 0.0072559875127996745\n",
            " error 0.008053236656944351\n",
            " error 0.008851439380582988\n",
            " error 0.010086553251300055\n"
          ],
          "name": "stdout"
        }
      ]
    },
    {
      "cell_type": "code",
      "metadata": {
        "colab": {
          "base_uri": "https://localhost:8080/"
        },
        "id": "6xlRscwalyNK",
        "outputId": "8f761d4a-27f0-4a89-ded5-2639c6c50496"
      },
      "source": [
        "print(m,c)"
      ],
      "execution_count": 32,
      "outputs": [
        {
          "output_type": "stream",
          "text": [
            "0.630310095030101 0.1751865275068609\n"
          ],
          "name": "stdout"
        }
      ]
    },
    {
      "cell_type": "code",
      "metadata": {
        "colab": {
          "base_uri": "https://localhost:8080/",
          "height": 298
        },
        "id": "00xIvEuIlPjN",
        "outputId": "3293b2fc-b03c-46a1-c6f7-c86cbcc0a09f"
      },
      "source": [
        "plt.title(\"error graph\")\n",
        "x_1 = range(len(error_list))\n",
        "y_1 = error_list\n",
        "plt.plot(x_1,y_1)"
      ],
      "execution_count": 33,
      "outputs": [
        {
          "output_type": "execute_result",
          "data": {
            "text/plain": [
              "[<matplotlib.lines.Line2D at 0x7fa80aba6dd0>]"
            ]
          },
          "metadata": {
            "tags": []
          },
          "execution_count": 33
        },
        {
          "output_type": "display_data",
          "data": {
            "image/png": "[encoded data removed]",
            "text/plain": [
              "<Figure size 432x288 with 1 Axes>"
            ]
          },
          "metadata": {
            "tags": [],
            "needs_background": "light"
          }
        }
      ]
    },
    {
      "cell_type": "code",
      "metadata": {
        "colab": {
          "base_uri": "https://localhost:8080/"
        },
        "id": "Q1S_ALiFkX3w",
        "outputId": "08ed9387-7833-44d9-9819-c2551cc0fe29"
      },
      "source": [
        "print(\"train error :\",error(train_data_n,m,c))\n",
        "print(\"test error :\",error(test_data_n,m,c))"
      ],
      "execution_count": 34,
      "outputs": [
        {
          "output_type": "stream",
          "text": [
            "train error : 0.008859856659951853\n",
            "test error : 0.008579840867179582\n"
          ],
          "name": "stdout"
        }
      ]
    },
    {
      "cell_type": "code",
      "metadata": {
        "colab": {
          "base_uri": "https://localhost:8080/",
          "height": 282
        },
        "id": "yme_8z6Yl24t",
        "outputId": "0110e1b4-8627-40c8-ce56-00ba23d40dae"
      },
      "source": [
        "plt.scatter(x,y)\n",
        "x1 = x\n",
        "y1 = [i*m+c for i in x1]\n",
        "plt.plot(x1,y1)"
      ],
      "execution_count": 35,
      "outputs": [
        {
          "output_type": "execute_result",
          "data": {
            "text/plain": [
              "[<matplotlib.lines.Line2D at 0x7fa80ab90f10>]"
            ]
          },
          "metadata": {
            "tags": []
          },
          "execution_count": 35
        },
        {
          "output_type": "display_data",
          "data": {
            "image/png": "[encoded data removed]",
            "text/plain": [
              "<Figure size 432x288 with 1 Axes>"
            ]
          },
          "metadata": {
            "tags": [],
            "needs_background": "light"
          }
        }
      ]
    },
    {
      "cell_type": "code",
      "metadata": {
        "colab": {
          "base_uri": "https://localhost:8080/"
        },
        "id": "dnac7xAQmS3L",
        "outputId": "ee4525fd-6f7e-490f-8fbc-be30f6bf270c"
      },
      "source": [
        "input_load = float(input(\"enter yesterday load : \"))\n",
        "maximum_value = 8841.669480\n",
        "minimum_value = 3377.919600\n",
        "input_load = (input_load - minimum_value)/(maximum_value-minimum_value)\n",
        "output_load = input_load*m+c\n",
        "output_load = output_load*(maximum_value-minimum_value)+minimum_value\n",
        "print(\"predicted load is : \",output_load)"
      ],
      "execution_count": 36,
      "outputs": [
        {
          "output_type": "stream",
          "text": [
            "enter yesterday load : 5555.5\n",
            "predicted load is :  5707.645877502913\n"
          ],
          "name": "stdout"
        }
      ]
    }
  ]
}