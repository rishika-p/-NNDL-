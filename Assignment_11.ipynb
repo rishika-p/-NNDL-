{
  "nbformat": 4,
  "nbformat_minor": 0,
  "metadata": {
    "colab": {
      "name": "Assignment_11.ipynb",
      "provenance": [],
      "authorship_tag": "ABX9TyO042ANGfP8FpfboScBvee+",
      "include_colab_link": true
    },
    "kernelspec": {
      "name": "python3",
      "display_name": "Python 3"
    },
    "language_info": {
      "name": "python"
    }
  },
  "cells": [
    {
      "cell_type": "markdown",
      "metadata": {
        "id": "view-in-github",
        "colab_type": "text"
      },
      "source": [
        "<a href=\"https://colab.research.google.com/github/rishika-p/-NNDL-/blob/main/Assignment_11.ipynb\" target=\"_parent\"><img src=\"https://colab.research.google.com/assets/colab-badge.svg\" alt=\"Open In Colab\"/></a>"
      ]
    },
    {
      "cell_type": "code",
      "metadata": {
        "id": "BO8SjDS9PpFE"
      },
      "source": [
        "import math\n",
        "import random\n",
        "import matplotlib.pyplot as plt\n",
        "from random import shuffle"
      ],
      "execution_count": 40,
      "outputs": []
    },
    {
      "cell_type": "code",
      "metadata": {
        "colab": {
          "base_uri": "https://localhost:8080/"
        },
        "id": "RkMGm4rbQ3bX",
        "outputId": "b1bd3c60-531a-428f-8330-de35f61640c7"
      },
      "source": [
        "x = [0.2,0.4,0.6,0.8]\n",
        "y = [3.4,3.8,4.2,4.6]\n",
        "data = list()\n",
        "for i in range(4):\n",
        "  data.append((x[i],y[i]))\n",
        "print(data)\n",
        "number_of_samples = 4\n",
        "learning_rate = 0.1\n",
        "m = -1\n",
        "c = 1\n",
        "epochs = 200\n",
        "batch_size = 2\n",
        "v_m = 0\n",
        "v_c = 0\n",
        "momentum_coefficient = 0.9\n",
        "number_of_batches = number_of_samples//batch_size"
      ],
      "execution_count": 48,
      "outputs": [
        {
          "output_type": "stream",
          "text": [
            "[(0.2, 3.4), (0.4, 3.8), (0.6, 4.2), (0.8, 4.6)]\n"
          ],
          "name": "stdout"
        }
      ]
    },
    {
      "cell_type": "code",
      "metadata": {
        "id": "hwBowS2gRZdP"
      },
      "source": [
        "def gradient_of_m(d,m,c,v_m,v_c,momentum_coefficient):\n",
        "  sum = 0\n",
        "  for i in range(len(d)):\n",
        "    sum = sum + (d[i][1]-(m+momentum_coefficient*v_m)*d[i][0]-(c+momentum_coefficient*v_c))*d[i][0]\n",
        "  return -1*sum/len(d)\n"
      ],
      "execution_count": 46,
      "outputs": []
    },
    {
      "cell_type": "code",
      "metadata": {
        "id": "GQXwsCLsRf2J"
      },
      "source": [
        "def gradient_of_c(d,m,c,v_m,v_c,momentum_coefficient):\n",
        "  sum = 0\n",
        "  for i in range(len(d)):\n",
        "    sum = sum + (d[i][1]-(m+momentum_coefficient*v_m)*d[i][0]-(c+momentum_coefficient*v_c))\n",
        "  return -1*sum/len(d)"
      ],
      "execution_count": 43,
      "outputs": []
    },
    {
      "cell_type": "code",
      "metadata": {
        "id": "-LQPNS-GRmB0"
      },
      "source": [
        "def error(d,m,c):\n",
        "  sum = 0\n",
        "  for i in range(len(d)):\n",
        "    sum = sum + math.pow(d[i][1]-m*d[i][0]-c,2)\n",
        "  return 0.5*sum/len(d)"
      ],
      "execution_count": 44,
      "outputs": []
    },
    {
      "cell_type": "code",
      "metadata": {
        "colab": {
          "base_uri": "https://localhost:8080/"
        },
        "id": "v1tUuDeBQ4ig",
        "outputId": "d82dbf0b-4f5a-47f1-d5ca-16f86b314439"
      },
      "source": [
        "error_list = []\n",
        "for i in range(epochs):\n",
        "  for j in range(number_of_batches):\n",
        "    if j == number_of_batches:\n",
        "      d = data[j*batch_size:]\n",
        "    else:\n",
        "      d = data[j*batch_size:(j+1)*batch_size]\n",
        "    delta_m = -1*learning_rate*gradient_of_m(d,m,c,v_m,v_c,momentum_coefficient)\n",
        "    delta_c = -1*learning_rate*gradient_of_c(d,m,c,v_m,v_c,momentum_coefficient)\n",
        "\n",
        "    v_m = v_m*momentum_coefficient + delta_m\n",
        "    v_c = v_c*momentum_coefficient + delta_c\n",
        "\n",
        "    m = m + v_m\n",
        "    c = c + v_c\n",
        "    \n",
        "    error_list.append(error(d,m,c))\n",
        "  random.shuffle(data)\n",
        "\n",
        "print(\"optimal value of m, c :\",m,c)"
      ],
      "execution_count": 49,
      "outputs": [
        {
          "output_type": "stream",
          "text": [
            "optimal value of m, c : 1.999999999581197 3.0000000002114846\n"
          ],
          "name": "stdout"
        }
      ]
    },
    {
      "cell_type": "code",
      "metadata": {
        "colab": {
          "base_uri": "https://localhost:8080/",
          "height": 282
        },
        "id": "osZMGcQGRzwu",
        "outputId": "fa1d3d84-04de-47e1-aa05-cc79fb62b0fe"
      },
      "source": [
        "x_1 = range(200*(number_of_batches))\n",
        "y_1 = error_list\n",
        "plt.plot(x_1,y_1)"
      ],
      "execution_count": 50,
      "outputs": [
        {
          "output_type": "execute_result",
          "data": {
            "text/plain": [
              "[<matplotlib.lines.Line2D at 0x7f1389fc2e90>]"
            ]
          },
          "metadata": {
            "tags": []
          },
          "execution_count": 50
        },
        {
          "output_type": "display_data",
          "data": {
            "image/png": "[encoded data removed]",
            "text/plain": [
              "<Figure size 432x288 with 1 Axes>"
            ]
          },
          "metadata": {
            "tags": [],
            "needs_background": "light"
          }
        }
      ]
    },
    {
      "cell_type": "code",
      "metadata": {
        "colab": {
          "base_uri": "https://localhost:8080/",
          "height": 282
        },
        "id": "lf0C5ra5R5Hb",
        "outputId": "6e0327af-9ed5-459b-b0a2-4c57796f02e5"
      },
      "source": [
        "x_2 = range(0,3)\n",
        "y_2 = [m*i+c for i in x_2]\n",
        "plt.plot(x_2,y_2)\n",
        "plt.scatter(x,y)"
      ],
      "execution_count": 51,
      "outputs": [
        {
          "output_type": "execute_result",
          "data": {
            "text/plain": [
              "<matplotlib.collections.PathCollection at 0x7f138a0c4b90>"
            ]
          },
          "metadata": {
            "tags": []
          },
          "execution_count": 51
        },
        {
          "output_type": "display_data",
          "data": {
            "image/png": "[encoded data removed]",
            "text/plain": [
              "<Figure size 432x288 with 1 Axes>"
            ]
          },
          "metadata": {
            "tags": [],
            "needs_background": "light"
          }
        }
      ]
    }
  ]
}