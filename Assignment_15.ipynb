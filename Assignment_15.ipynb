{
  "nbformat": 4,
  "nbformat_minor": 0,
  "metadata": {
    "colab": {
      "name": "Assignment_15.ipynb",
      "provenance": [],
      "authorship_tag": "ABX9TyMDeDqG6NXZXrJ8sX0X4OSS",
      "include_colab_link": true
    },
    "kernelspec": {
      "name": "python3",
      "display_name": "Python 3"
    },
    "language_info": {
      "name": "python"
    }
  },
  "cells": [
    {
      "cell_type": "markdown",
      "metadata": {
        "id": "view-in-github",
        "colab_type": "text"
      },
      "source": [
        "<a href=\"https://colab.research.google.com/github/rishika-p/-NNDL-/blob/main/Assignment_15.ipynb\" target=\"_parent\"><img src=\"https://colab.research.google.com/assets/colab-badge.svg\" alt=\"Open In Colab\"/></a>"
      ]
    },
    {
      "cell_type": "code",
      "metadata": {
        "id": "pzHluGnHFSdJ"
      },
      "source": [
        "from math import *\n",
        "import matplotlib.pyplot as plt"
      ],
      "execution_count": 4,
      "outputs": []
    },
    {
      "cell_type": "code",
      "metadata": {
        "id": "gfb7aQZaPHI6"
      },
      "source": [
        "x=[0.2,0.4,0.6,0.8]\n",
        "y=[3.4,3.8,4.2,4.6]\n",
        "n=0.01\n",
        "epochs=100000\n",
        "m=1\n",
        "c=-1"
      ],
      "execution_count": 5,
      "outputs": []
    },
    {
      "cell_type": "code",
      "metadata": {
        "id": "GrZvINxgPQeg"
      },
      "source": [
        "no_of_samples=4\n",
        "err_list=[]"
      ],
      "execution_count": 6,
      "outputs": []
    },
    {
      "cell_type": "code",
      "metadata": {
        "id": "kHGnCnN9PSqq"
      },
      "source": [
        "def gradient_m(y,x,m,c):\n",
        "  return -1*(y-m*x-c)*x\n",
        "def gradient_c(y,x,m,c):\n",
        "  return -1*(y-m*x-c)"
      ],
      "execution_count": 7,
      "outputs": []
    },
    {
      "cell_type": "code",
      "metadata": {
        "id": "g1gvPVLaPYTH"
      },
      "source": [
        "Em=0\n",
        "Ec=0\n",
        "e = pow(10,-8)\n",
        "gama=0.9"
      ],
      "execution_count": 8,
      "outputs": []
    },
    {
      "cell_type": "code",
      "metadata": {
        "colab": {
          "base_uri": "https://localhost:8080/"
        },
        "id": "mMn4SeQ8PcBk",
        "outputId": "36c6fe04-44ce-4015-88a1-30bfa3c4a92d"
      },
      "source": [
        "for i in range(epochs):\n",
        "  for j in range(no_of_samples):\n",
        "    err=0.5*(y[j]-m*x[j]-c)**2\n",
        "    err_list.append(err)\n",
        "    gradient_of_m=gradient_m(y[j],x[j],m,c)\n",
        "    gradient_of_c=gradient_c(y[j],x[j],m,c)\n",
        "    Em=gama*Em+(1-gama)*gradient_of_m**2\n",
        "    Ec=gama*Ec+(1-gama)*gradient_of_c**2\n",
        "    l_rate_of_m=n/sqrt(Em+e)\n",
        "    l_rate_of_c=n/sqrt(Ec+e)\n",
        "    delta_m = -1*l_rate_of_m*gradient_of_m\n",
        "    delta_c = -1*l_rate_of_c*gradient_of_c\n",
        "    m = m + delta_m\n",
        "    c = c + delta_c\n",
        "print(m,c)"
      ],
      "execution_count": 9,
      "outputs": [
        {
          "output_type": "stream",
          "text": [
            "1.994177891158704 3.003417402970427\n"
          ],
          "name": "stdout"
        }
      ]
    },
    {
      "cell_type": "code",
      "metadata": {
        "id": "kUGJqEq3P2Rg",
        "colab": {
          "base_uri": "https://localhost:8080/",
          "height": 312
        },
        "outputId": "a3416e59-5f8a-4c24-f481-c231110fff64"
      },
      "source": [
        "x_1=range(epochs*4)\n",
        "y_1=err_list\n",
        "plt.plot(x_1,y_1)\n",
        "plt.xlabel(\"no of iter\")\n",
        "plt.ylabel(\"error\")\n",
        "plt.title(\"Error graph\")"
      ],
      "execution_count": 10,
      "outputs": [
        {
          "output_type": "execute_result",
          "data": {
            "text/plain": [
              "Text(0.5, 1.0, 'Error graph')"
            ]
          },
          "metadata": {
            "tags": []
          },
          "execution_count": 10
        },
        {
          "output_type": "display_data",
          "data": {
            "image/png": "[encoded data removed]",
            "text/plain": [
              "<Figure size 432x288 with 1 Axes>"
            ]
          },
          "metadata": {
            "tags": [],
            "needs_background": "light"
          }
        }
      ]
    },
    {
      "cell_type": "code",
      "metadata": {
        "id": "jpzUpKEHQXBc",
        "colab": {
          "base_uri": "https://localhost:8080/",
          "height": 298
        },
        "outputId": "aaeaad4a-fdf5-4988-e4ed-73689e2eb8c6"
      },
      "source": [
        "x_2=range(0,2)\n",
        "y_2=[m*i+c for i in x_2]\n",
        "plt.plot(x_2,y_2)\n",
        "plt.scatter(x,y)\n",
        "plt.title(\"After Training\")"
      ],
      "execution_count": 11,
      "outputs": [
        {
          "output_type": "execute_result",
          "data": {
            "text/plain": [
              "Text(0.5, 1.0, 'After Training')"
            ]
          },
          "metadata": {
            "tags": []
          },
          "execution_count": 11
        },
        {
          "output_type": "display_data",
          "data": {
            "image/png": "[encoded data removed]",
            "text/plain": [
              "<Figure size 432x288 with 1 Axes>"
            ]
          },
          "metadata": {
            "tags": [],
            "needs_background": "light"
          }
        }
      ]
    },
    {
      "cell_type": "code",
      "metadata": {
        "id": "4Ic7AJkoDX3n"
      },
      "source": [
        ""
      ],
      "execution_count": null,
      "outputs": []
    }
  ]
}